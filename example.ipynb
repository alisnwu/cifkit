{
 "cells": [
  {
   "cell_type": "code",
   "execution_count": 1,
   "metadata": {},
   "outputs": [
    {
     "name": "stderr",
     "output_type": "stream",
     "text": [
      "2024-06-18 12:00:52,466 - INFO - Preprocessing file tests/data/cif/folder/300169.cif\n"
     ]
    },
    {
     "ename": "AttributeError",
     "evalue": "'str' object has no attribute 'value'",
     "output_type": "error",
     "traceback": [
      "\u001b[0;31m---------------------------------------------------------------------------\u001b[0m",
      "\u001b[0;31mAttributeError\u001b[0m                            Traceback (most recent call last)",
      "Cell \u001b[0;32mIn[1], line 8\u001b[0m\n\u001b[1;32m      5\u001b[0m file_paths \u001b[38;5;241m=\u001b[39m folder\u001b[38;5;241m.\u001b[39mget_file_path_list(\u001b[38;5;124m\"\u001b[39m\u001b[38;5;124mtests/data/cif/folder\u001b[39m\u001b[38;5;124m\"\u001b[39m)\n\u001b[1;32m      7\u001b[0m \u001b[38;5;28;01mfor\u001b[39;00m file_path \u001b[38;5;129;01min\u001b[39;00m file_paths:\n\u001b[0;32m----> 8\u001b[0m     cif \u001b[38;5;241m=\u001b[39m \u001b[43mCif\u001b[49m\u001b[43m(\u001b[49m\u001b[43mfile_path\u001b[49m\u001b[43m,\u001b[49m\u001b[43m \u001b[49m\u001b[43mlogging_enabled\u001b[49m\u001b[38;5;241;43m=\u001b[39;49m\u001b[38;5;28;43;01mTrue\u001b[39;49;00m\u001b[43m)\u001b[49m\n\u001b[1;32m     10\u001b[0m     \u001b[38;5;66;03m# Print output\u001b[39;00m\n\u001b[1;32m     11\u001b[0m     \u001b[38;5;66;03m# print(\"Formula:\", cif.formula)\u001b[39;00m\n\u001b[1;32m     12\u001b[0m     \u001b[38;5;66;03m# print(\"Unique element:\", cif.unique_elements)\u001b[39;00m\n\u001b[0;32m   (...)\u001b[0m\n\u001b[1;32m     16\u001b[0m \n\u001b[1;32m     17\u001b[0m     \u001b[38;5;66;03m# Set the cut-off radius\u001b[39;00m\n\u001b[1;32m     18\u001b[0m     cut_off_radius \u001b[38;5;241m=\u001b[39m \u001b[38;5;241m4\u001b[39m\n",
      "File \u001b[0;32m~/Downloads/cifkit/src/cifkit/models/cif.py:115\u001b[0m, in \u001b[0;36mCif.__init__\u001b[0;34m(self, file_path, logging_enabled)\u001b[0m\n\u001b[1;32m    113\u001b[0m \u001b[38;5;28mself\u001b[39m\u001b[38;5;241m.\u001b[39m_shortest_pair_distance \u001b[38;5;241m=\u001b[39m \u001b[38;5;28;01mNone\u001b[39;00m\n\u001b[1;32m    114\u001b[0m \u001b[38;5;28mself\u001b[39m\u001b[38;5;241m.\u001b[39m_preprocess()\n\u001b[0;32m--> 115\u001b[0m \u001b[38;5;28;43mself\u001b[39;49m\u001b[38;5;241;43m.\u001b[39;49m\u001b[43m_load_data\u001b[49m\u001b[43m(\u001b[49m\u001b[43m)\u001b[49m\n",
      "File \u001b[0;32m~/Downloads/cifkit/src/cifkit/models/cif.py:132\u001b[0m, in \u001b[0;36mCif._load_data\u001b[0;34m(self)\u001b[0m\n\u001b[1;32m    130\u001b[0m \u001b[38;5;250m\u001b[39m\u001b[38;5;124;03m\"\"\"Load data from the .cif file and process it.\"\"\"\u001b[39;00m\n\u001b[1;32m    131\u001b[0m \u001b[38;5;28mself\u001b[39m\u001b[38;5;241m.\u001b[39m_block \u001b[38;5;241m=\u001b[39m get_cif_block(\u001b[38;5;28mself\u001b[39m\u001b[38;5;241m.\u001b[39mfile_path)\n\u001b[0;32m--> 132\u001b[0m \u001b[38;5;28;43mself\u001b[39;49m\u001b[38;5;241;43m.\u001b[39;49m\u001b[43m_log_info\u001b[49m\u001b[43m(\u001b[49m\u001b[38;5;124;43m\"\u001b[39;49m\u001b[38;5;124;43mInitializing CIF processing\u001b[39;49m\u001b[38;5;124;43m\"\u001b[39;49m\u001b[43m)\u001b[49m\n\u001b[1;32m    133\u001b[0m \u001b[38;5;28mself\u001b[39m\u001b[38;5;241m.\u001b[39m_parse_cif_data()\n\u001b[1;32m    134\u001b[0m \u001b[38;5;28mself\u001b[39m\u001b[38;5;241m.\u001b[39m_generate_supercell()\n",
      "File \u001b[0;32m~/Downloads/cifkit/src/cifkit/models/cif.py:120\u001b[0m, in \u001b[0;36mCif._log_info\u001b[0;34m(self, message, **kwargs)\u001b[0m\n\u001b[1;32m    118\u001b[0m \u001b[38;5;250m\u001b[39m\u001b[38;5;124;03m\"\"\"Log a formatted message if logging is enabled.\"\"\"\u001b[39;00m\n\u001b[1;32m    119\u001b[0m \u001b[38;5;28;01mif\u001b[39;00m \u001b[38;5;28mself\u001b[39m\u001b[38;5;241m.\u001b[39mlogging_enabled:\n\u001b[0;32m--> 120\u001b[0m     logging\u001b[38;5;241m.\u001b[39minfo(\u001b[43mmessage\u001b[49m\u001b[38;5;241;43m.\u001b[39;49m\u001b[43mvalue\u001b[49m\u001b[38;5;241m.\u001b[39mformat(file_path\u001b[38;5;241m=\u001b[39m\u001b[38;5;28mself\u001b[39m\u001b[38;5;241m.\u001b[39mfile_path, \u001b[38;5;241m*\u001b[39m\u001b[38;5;241m*\u001b[39mkwargs))\n",
      "\u001b[0;31mAttributeError\u001b[0m: 'str' object has no attribute 'value'"
     ]
    }
   ],
   "source": [
    "from cifkit import Cif\n",
    "from cifkit.utils import folder\n",
    "\n",
    "# Example usage\n",
    "file_paths = folder.get_file_path_list(\"tests/data/cif/folder\")\n",
    "\n",
    "for file_path in file_paths:\n",
    "    cif = Cif(file_path, logging_enabled=True)\n",
    "\n",
    "    # Print output\n",
    "    # print(\"Formula:\", cif.formula)\n",
    "    # print(\"Unique element:\", cif.unique_elements)\n",
    "    # print(\"Structure:\", cif.structure)\n",
    "    # print(\"Site labels:\", cif.site_labels)\n",
    "    # print(\"Space group:\", cif.space_group_name)\n",
    "\n",
    "    # Set the cut-off radius\n",
    "    cut_off_radius = 4\n",
    "    cif.compute_connections(cut_off_radius)\n",
    "    # print(cif.bond_fraction_CN)\n",
    "    # print(cif.bond_counts_CN)\n",
    "    # print(cif.all_bond_pairs)\n",
    "    # print(cif.shortest_distance_per_label)\n",
    "\n",
    "    # print()\n",
    "    # site_labels = cif.site_labels\n",
    "    # for label in site_labels:\n",
    "    #     coords, labels = cif.get_polyhedron_labels_from_site(label)\n",
    "    #     print(\"Attached labels for\", label)\n",
    "    #     print(labels, coords)\n",
    "\n",
    "\n",
    "# TODO: Generate polyhedron .gif files\n",
    "# TODO: Generate shortest atomic site information (CBA)\n",
    "# TODO: Generate histograms\n",
    "# TODO: Generate coordination numbers"
   ]
  },
  {
   "cell_type": "markdown",
   "metadata": {},
   "source": []
  }
 ],
 "metadata": {
  "kernelspec": {
   "display_name": "Python 3 (ipykernel)",
   "language": "python",
   "name": "python3"
  },
  "language_info": {
   "codemirror_mode": {
    "name": "ipython",
    "version": 3
   },
   "file_extension": ".py",
   "mimetype": "text/x-python",
   "name": "python",
   "nbconvert_exporter": "python",
   "pygments_lexer": "ipython3",
   "version": "3.12.3"
  }
 },
 "nbformat": 4,
 "nbformat_minor": 4
}
