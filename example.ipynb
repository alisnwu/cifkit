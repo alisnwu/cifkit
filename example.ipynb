{
 "cells": [
  {
   "cell_type": "code",
   "execution_count": 1,
   "metadata": {},
   "outputs": [
    {
     "name": "stderr",
     "output_type": "stream",
     "text": [
      "2024-06-18 12:45:47,573 - INFO - Preprocessing tests/data/cif/folder/300169.cif\n",
      "2024-06-18 12:45:47,583 - INFO - Parsing .cif file and generating a supercell\n",
      "2024-06-18 12:45:47,594 - INFO - Computing atomic environments in the supercell\n",
      "2024-06-18 12:45:47,756 - INFO - Preprocessing tests/data/cif/folder/300171.cif\n",
      "2024-06-18 12:45:47,758 - INFO - Parsing .cif file and generating a supercell\n",
      "2024-06-18 12:45:47,763 - INFO - Computing atomic environments in the supercell\n",
      "2024-06-18 12:45:47,877 - INFO - Preprocessing tests/data/cif/folder/300170.cif\n",
      "2024-06-18 12:45:47,878 - INFO - Parsing .cif file and generating a supercell\n",
      "2024-06-18 12:45:47,882 - INFO - Computing atomic environments in the supercell\n"
     ]
    }
   ],
   "source": [
    "from cifkit import Cif\n",
    "from cifkit.utils import folder\n",
    "\n",
    "# Example usage\n",
    "file_paths = folder.get_file_path_list(\"tests/data/cif/folder\")\n",
    "\n",
    "for file_path in file_paths:\n",
    "    cif = Cif(file_path, logging_enabled=True)\n",
    "\n",
    "    # Print output\n",
    "    # print(\"Formula:\", cif.formula)\n",
    "    # print(\"Unique element:\", cif.unique_elements)\n",
    "    # print(\"Structure:\", cif.structure)\n",
    "    # print(\"Site labels:\", cif.site_labels)\n",
    "    # print(\"Space group:\", cif.space_group_name)\n",
    "\n",
    "    # Set the cut-off radius\n",
    "    cut_off_radius = 4\n",
    "    cif.compute_connections(cut_off_radius)\n",
    "    # print(cif.bond_fraction_CN)\n",
    "    # print(cif.bond_counts_CN)\n",
    "    # print(cif.all_bond_pairs)\n",
    "    # print(cif.shortest_distance_per_label)\n",
    "\n",
    "    # print()\n",
    "    # site_labels = cif.site_labels\n",
    "    # for label in site_labels:\n",
    "    #     coords, labels = cif.get_polyhedron_labels_from_site(label)\n",
    "    #     print(\"Attached labels for\", label)\n",
    "    #     print(labels, coords)\n",
    "\n",
    "\n",
    "# TODO: Generate polyhedron .gif files\n",
    "# TODO: Generate shortest atomic site information (CBA)\n",
    "# TODO: Generate histograms\n",
    "# TODO: Generate coordination numbers"
   ]
  },
  {
   "cell_type": "markdown",
   "metadata": {},
   "source": []
  }
 ],
 "metadata": {
  "kernelspec": {
   "display_name": "Python 3 (ipykernel)",
   "language": "python",
   "name": "python3"
  },
  "language_info": {
   "codemirror_mode": {
    "name": "ipython",
    "version": 3
   },
   "file_extension": ".py",
   "mimetype": "text/x-python",
   "name": "python",
   "nbconvert_exporter": "python",
   "pygments_lexer": "ipython3",
   "version": "3.12.3"
  }
 },
 "nbformat": 4,
 "nbformat_minor": 4
}
