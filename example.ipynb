{
 "cells": [
  {
   "cell_type": "code",
   "execution_count": 1,
   "metadata": {},
   "outputs": [
    {
     "name": "stdout",
     "output_type": "stream",
     "text": [
      "Formula: LaRu2Ge2\n",
      "Unique element: {'Ru', 'Ge', 'La'}\n",
      "Structure: CeAl2Ga2\n",
      "Site labels: ['Ge1', 'Ru1', 'La1']\n",
      "Space group: I4/mmm\n",
      "Formula: EuIr2Ge2\n",
      "Unique element: {'Eu', 'Ge', 'Ir'}\n",
      "Structure: CeAl2Ga2\n",
      "Site labels: ['Ge1', 'Ir1', 'Eu1']\n",
      "Space group: I4/mmm\n",
      "Formula: CeRu2Ge2\n",
      "Unique element: {'Ce', 'Ru', 'Ge'}\n",
      "Structure: CeAl2Ga2\n",
      "Site labels: ['Ge1', 'Ru1', 'Ce1']\n",
      "Space group: I4/mmm\n"
     ]
    }
   ],
   "source": [
    "from cifpy.models.cif import Cif\n",
    "from cifpy.utils import folder\n",
    "\n",
    "# Example usage\n",
    "file_paths = folder.get_file_path_list(\"tests/data/cif/folder\")\n",
    "\n",
    "for file_path in file_paths:\n",
    "    cif = Cif(file_path)\n",
    "\n",
    "    # Print output\n",
    "    print(\"Formula:\", cif.formula)\n",
    "    print(\"Unique element:\", cif.unique_elements)\n",
    "    print(\"Structure:\", cif.structure)\n",
    "    print(\"Site labels:\", cif.site_labels)\n",
    "    print(\"Space group:\", cif.space_group_name)\n",
    "\n",
    "    # Set the cut-off radius\n",
    "    cut_off_radius = 4\n",
    "    cif.compute_connections(cut_off_radius)\n",
    "    # cif.draw_polyhedron()\n",
    "    # cif.print_connected_points()\n",
    "\n",
    "# TODO: Generate polyhedron .gif files\n",
    "# TODO: Generate shortest atomic site information (CBA)\n",
    "# TODO: Generate histograms\n",
    "# TODO: Generate coordination numbers"
   ]
  },
  {
   "cell_type": "code",
   "execution_count": null,
   "metadata": {},
   "outputs": [],
   "source": []
  },
  {
   "cell_type": "code",
   "execution_count": null,
   "metadata": {},
   "outputs": [],
   "source": []
  }
 ],
 "metadata": {
  "kernelspec": {
   "display_name": "Python 3 (ipykernel)",
   "language": "python",
   "name": "python3"
  },
  "language_info": {
   "codemirror_mode": {
    "name": "ipython",
    "version": 3
   },
   "file_extension": ".py",
   "mimetype": "text/x-python",
   "name": "python",
   "nbconvert_exporter": "python",
   "pygments_lexer": "ipython3",
   "version": "3.12.3"
  }
 },
 "nbformat": 4,
 "nbformat_minor": 4
}
