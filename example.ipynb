{
 "cells": [
  {
   "cell_type": "code",
   "execution_count": 1,
   "metadata": {},
   "outputs": [
    {
     "name": "stdout",
     "output_type": "stream",
     "text": [
      "Formula: LaRu2Ge2\n",
      "Unique element: {'Ge', 'Ru', 'La'}\n",
      "Structure: CeAl2Ga2\n",
      "Site labels: ['Ge1', 'Ru1', 'La1']\n",
      "Space group: I4/mmm\n",
      "{('Ge', 'Ge'): 0.04, ('Ge', 'Ru'): 0.32, ('Ge', 'La'): 0.32, ('La', 'Ru'): 0.32}\n",
      "{'Ge1': {('Ge', 'Ge'): 1, ('Ge', 'Ru'): 4}, 'Ru1': {('Ge', 'Ru'): 4}, 'La1': {('Ge', 'La'): 8, ('La', 'Ru'): 8}}\n",
      "{('Ge', 'La'), ('Ru', 'Ru'), ('La', 'La'), ('Ge', 'Ge'), ('La', 'Ru'), ('Ge', 'Ru')}\n",
      "{'Ge1': ('Ge1', 2.29), 'Ru1': ('Ge1', 2.554), 'La1': ('Ge1', 3.241)}\n",
      "\n",
      "Attached labels for Ge1\n",
      "['Ge1', 'Ru1', 'Ru1', 'Ru1', 'Ru1', 'Ge1']\n",
      "Attached labels for Ru1\n",
      "['Ge1', 'Ge1', 'Ge1', 'Ge1', 'Ru1']\n",
      "Attached labels for La1\n",
      "['Ge1', 'Ge1', 'Ge1', 'Ge1', 'Ge1', 'Ge1', 'Ge1', 'Ge1', 'Ru1', 'Ru1', 'Ru1', 'Ru1', 'Ru1', 'Ru1', 'Ru1', 'Ru1', 'La1']\n",
      "Formula: EuIr2Ge2\n",
      "Unique element: {'Eu', 'Ge', 'Ir'}\n",
      "Structure: CeAl2Ga2\n",
      "Site labels: ['Ge1', 'Ir1', 'Eu1']\n",
      "Space group: I4/mmm\n",
      "{('Ge', 'Ge'): 0.058823529411764705, ('Ge', 'Ir'): 0.47058823529411764, ('Eu', 'Ge'): 0.47058823529411764}\n",
      "{'Ge1': {('Ge', 'Ge'): 1, ('Ge', 'Ir'): 4}, 'Ir1': {('Ge', 'Ir'): 4}, 'Eu1': {('Eu', 'Ge'): 8}}\n",
      "{('Eu', 'Eu'), ('Ir', 'Ir'), ('Ge', 'Ge'), ('Eu', 'Ir'), ('Eu', 'Ge'), ('Ge', 'Ir')}\n",
      "{'Ge1': ('Ge1', 2.383), 'Ir1': ('Ge1', 2.537), 'Eu1': ('Ge1', 3.182)}\n",
      "\n",
      "Attached labels for Ge1\n",
      "['Ge1', 'Ir1', 'Ir1', 'Ir1', 'Ir1', 'Ge1']\n",
      "Attached labels for Ir1\n",
      "['Ge1', 'Ge1', 'Ge1', 'Ge1', 'Ir1']\n",
      "Attached labels for Eu1\n",
      "['Ge1', 'Ge1', 'Ge1', 'Ge1', 'Ge1', 'Ge1', 'Ge1', 'Ge1', 'Eu1']\n",
      "Formula: CeRu2Ge2\n",
      "Unique element: {'Ge', 'Ce', 'Ru'}\n",
      "Structure: CeAl2Ga2\n",
      "Site labels: ['Ge1', 'Ru1', 'Ce1']\n",
      "Space group: I4/mmm\n",
      "{('Ge', 'Ge'): 0.04, ('Ge', 'Ru'): 0.32, ('Ce', 'Ge'): 0.32, ('Ce', 'Ru'): 0.32}\n",
      "{'Ge1': {('Ge', 'Ge'): 1, ('Ge', 'Ru'): 4}, 'Ru1': {('Ge', 'Ru'): 4}, 'Ce1': {('Ce', 'Ge'): 8, ('Ce', 'Ru'): 8}}\n",
      "{('Ce', 'Ru'), ('Ce', 'Ce'), ('Ce', 'Ge'), ('Ge', 'Ge'), ('Ru', 'Ru'), ('Ge', 'Ru')}\n",
      "{'Ge1': ('Ge1', 2.28), 'Ru1': ('Ge1', 2.543), 'Ce1': ('Ge1', 3.227)}\n",
      "\n",
      "Attached labels for Ge1\n",
      "['Ge1', 'Ru1', 'Ru1', 'Ru1', 'Ru1', 'Ge1']\n",
      "Attached labels for Ru1\n",
      "['Ge1', 'Ge1', 'Ge1', 'Ge1', 'Ru1']\n",
      "Attached labels for Ce1\n",
      "['Ge1', 'Ge1', 'Ge1', 'Ge1', 'Ge1', 'Ge1', 'Ge1', 'Ge1', 'Ru1', 'Ru1', 'Ru1', 'Ru1', 'Ru1', 'Ru1', 'Ru1', 'Ru1', 'Ce1']\n"
     ]
    }
   ],
   "source": [
    "from cifkit.models.cif import Cif\n",
    "from cifkit.utils import folder\n",
    "\n",
    "# Example usage\n",
    "file_paths = folder.get_file_path_list(\"tests/data/cif/folder\")\n",
    "\n",
    "for file_path in file_paths:\n",
    "    cif = Cif(file_path)\n",
    "\n",
    "    # Print output\n",
    "    print(\"Formula:\", cif.formula)\n",
    "    print(\"Unique element:\", cif.unique_elements)\n",
    "    print(\"Structure:\", cif.structure)\n",
    "    print(\"Site labels:\", cif.site_labels)\n",
    "    print(\"Space group:\", cif.space_group_name)\n",
    "\n",
    "    # Set the cut-off radius\n",
    "    cut_off_radius = 4\n",
    "    cif.compute_connections(cut_off_radius)\n",
    "    print(cif.bond_fraction_CN)\n",
    "    print(cif.bond_counts_CN)\n",
    "    print(cif.all_bond_pairs)\n",
    "    print(cif.shortest_distance_per_label)\n",
    "\n",
    "    print()\n",
    "    site_labels = cif.site_labels\n",
    "    for label in site_labels:\n",
    "        coords, labels = cif.get_polyhedron_labels_from_site(label)\n",
    "        print(\"Attached labels for\", label)\n",
    "        print(labels, coords)\n",
    "\n",
    "\n",
    "# TODO: Generate polyhedron .gif files\n",
    "# TODO: Generate shortest atomic site information (CBA)\n",
    "# TODO: Generate histograms\n",
    "# TODO: Generate coordination numbers"
   ]
  },
  {
   "cell_type": "code",
   "execution_count": null,
   "metadata": {},
   "outputs": [],
   "source": []
  },
  {
   "cell_type": "code",
   "execution_count": null,
   "metadata": {},
   "outputs": [],
   "source": []
  }
 ],
 "metadata": {
  "kernelspec": {
   "display_name": "Python 3 (ipykernel)",
   "language": "python",
   "name": "python3"
  },
  "language_info": {
   "codemirror_mode": {
    "name": "ipython",
    "version": 3
   },
   "file_extension": ".py",
   "mimetype": "text/x-python",
   "name": "python",
   "nbconvert_exporter": "python",
   "pygments_lexer": "ipython3",
   "version": "3.12.3"
  }
 },
 "nbformat": 4,
 "nbformat_minor": 4
}
