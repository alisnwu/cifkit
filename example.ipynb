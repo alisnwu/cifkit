{
 "cells": [
  {
   "cell_type": "code",
   "execution_count": 1,
   "metadata": {},
   "outputs": [
    {
     "name": "stdout",
     "output_type": "stream",
     "text": [
      "\n",
      "CIF Preprocessing has begun...\n",
      "\n",
      "Preprocessing tests/data/cif/ensemble_test/300169.cif (1/6)\n",
      "Preprocessing tests/data/cif/ensemble_test/260171.cif (2/6)\n",
      "Preprocessing tests/data/cif/ensemble_test/250697.cif (3/6)\n",
      "Preprocessing tests/data/cif/ensemble_test/250709.cif (4/6)\n",
      "Preprocessing tests/data/cif/ensemble_test/300171.cif (5/6)\n",
      "Preprocessing tests/data/cif/ensemble_test/300170.cif (6/6)\n",
      "\n",
      "File movement summary:\n",
      "The returned loop tags do not match the expected tags.: 0 files moved\n",
      "Wrong number of values in loop _atom_site_*: 0 files moved\n",
      "The file contains duplicate atom site labels.: 0 files moved\n",
      "The element was not correctly parsed from the site label.: 0 files moved\n",
      "An error occurred while processing symmetry operation: 0 files moved\n",
      "Missing atomic coordinates: 0 files moved\n",
      "other_error: 0 files moved\n"
     ]
    }
   ],
   "source": [
    "from cifkit import Cif, CifEnsemble\n",
    "from cifkit.utils import folder\n",
    "\n",
    "# Example usage\n",
    "\n",
    "cif_ensemble = CifEnsemble(\"tests/data/cif/ensemble_test\")\n",
    "\n",
    "\n",
    "    # Print output\n",
    "    # print(\"Formula:\", cif.formula)\n",
    "    # print(\"Unique element:\", cif.unique_elements)\n",
    "    # print(\"Structure:\", cif.structure)\n",
    "    # print(\"Site labels:\", cif.site_labels)\n",
    "    # print(\"Space group:\", cif.space_group_name)\n",
    "\n",
    "    # Set the cut-off radius\n",
    "    # cut_off_radius = 4\n",
    "    # cif.compute_connections(cut_off_radius)\n",
    "    # print(cif.bond_fraction_CN)\n",
    "    # print(cif.bond_counts_CN)\n",
    "    # print(cif.all_bond_pairs)\n",
    "    # print(cif.shortest_distance_per_label)\n",
    "\n",
    "    # print()\n",
    "    # site_labels = cif.site_labels\n",
    "    # for label in site_labels:\n",
    "    #     coords, labels = cif.get_polyhedron_labels_from_site(label)\n",
    "    #     print(\"Attached labels for\", label)\n",
    "    #     print(labels, coords)\n",
    "\n",
    "\n",
    "# TODO: Generate polyhedron .gif files\n",
    "# TODO: Generate shortest atomic site information (CBA)\n",
    "# TODO: Generate histograms\n",
    "# TODO: Generate coordination numbers"
   ]
  },
  {
   "cell_type": "markdown",
   "metadata": {},
   "source": []
  }
 ],
 "metadata": {
  "kernelspec": {
   "display_name": "Python 3 (ipykernel)",
   "language": "python",
   "name": "python3"
  },
  "language_info": {
   "codemirror_mode": {
    "name": "ipython",
    "version": 3
   },
   "file_extension": ".py",
   "mimetype": "text/x-python",
   "name": "python",
   "nbconvert_exporter": "python",
   "pygments_lexer": "ipython3",
   "version": "3.12.3"
  }
 },
 "nbformat": 4,
 "nbformat_minor": 4
}
