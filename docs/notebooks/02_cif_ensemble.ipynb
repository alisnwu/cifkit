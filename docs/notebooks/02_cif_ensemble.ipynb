{
 "cells": [
  {
   "cell_type": "markdown",
   "metadata": {},
   "source": [
    "# CifEnsemble\n",
    "\n",
    "For high-throuhgput analysis, you can initialize multiple `.cif` files using `CifEnsemble`.\n",
    "\n",
    "## Initialize with folder path and preprocess automatically\n",
    "\n",
    "- `CifEnsemble` standardizes the site labels in `atom_site_label`. Some site labels may contain a comma or a symbol such as M due to atomic mixing. CBA reformats each `atom_site_label` so it can be parsed into an element type that matches atom_site_type_symbol.\n",
    "\n",
    "- `CifEnsemble` removes the content of `publ_author_address`. This section often has an incorrect format that otherwise requires manual modifications.\n",
    "\n",
    "- `CifEnsemble` relocates any ill-formatted files, such as those with duplicate labels in `atom_site_label`, missing fractional coordinates, or files that require supercell generation."
   ]
  },
  {
   "cell_type": "code",
   "execution_count": 10,
   "metadata": {},
   "outputs": [
    {
     "name": "stdout",
     "output_type": "stream",
     "text": [
      "\n",
      "CIF Preprocessing in Example.ErCoIn_folder_path begun...\n",
      "\n",
      "Preprocessing /Users/imac/Downloads/cifkit/src/cifkit/data/ErCoIn/Er10Co9In20.cif (1/3)\n",
      "Preprocessing /Users/imac/Downloads/cifkit/src/cifkit/data/ErCoIn/Er5In3.cif (2/3)\n",
      "Preprocessing /Users/imac/Downloads/cifkit/src/cifkit/data/ErCoIn/ErCoIn5.cif (3/3)\n",
      "\n",
      "SUMMARY\n",
      "# of files moved to 'error_operations' folder: 0\n",
      "# of files moved to 'error_duplicate_labels' folder: 0\n",
      "# of files moved to 'error_wrong_loop_value' folder: 0\n",
      "# of files moved to 'error_coords' folder: 0\n",
      "# of files moved to 'error_invalid_label' folder: 0\n",
      "# of files moved to 'error_others' folder: 0\n",
      "\n"
     ]
    }
   ],
   "source": [
    "from cifkit import CifEnsemble, Example\n",
    "\n",
    "# Initialize\n",
    "ensemble = CifEnsemble(Example.ErCoIn_folder_path)"
   ]
  },
  {
   "cell_type": "markdown",
   "metadata": {},
   "source": [
    "## Initialize with nested files\n",
    "\n",
    "You can also use the `add_nested_files` flag to include `.cif` files that are located in folders within the folder path provided."
   ]
  },
  {
   "cell_type": "code",
   "execution_count": 11,
   "metadata": {},
   "outputs": [
    {
     "name": "stdout",
     "output_type": "stream",
     "text": [
      "\n",
      "CIF Preprocessing in Example.ErCoIn_folder_path begun...\n",
      "\n",
      "Preprocessing /Users/imac/Downloads/cifkit/src/cifkit/data/ErCoIn/Er10Co9In20.cif (1/3)\n",
      "Preprocessing /Users/imac/Downloads/cifkit/src/cifkit/data/ErCoIn/Er5In3.cif (2/3)\n",
      "Preprocessing /Users/imac/Downloads/cifkit/src/cifkit/data/ErCoIn/ErCoIn5.cif (3/3)\n",
      "\n",
      "SUMMARY\n",
      "# of files moved to 'error_operations' folder: 0\n",
      "# of files moved to 'error_duplicate_labels' folder: 0\n",
      "# of files moved to 'error_wrong_loop_value' folder: 0\n",
      "# of files moved to 'error_coords' folder: 0\n",
      "# of files moved to 'error_invalid_label' folder: 0\n",
      "# of files moved to 'error_others' folder: 0\n",
      "\n"
     ]
    }
   ],
   "source": [
    "\n",
    "# Initialize with nested .cif files in the folder\n",
    "ensemble_nested = CifEnsemble(Example.ErCoIn_folder_path, add_nested_files=True)"
   ]
  },
  {
   "cell_type": "markdown",
   "metadata": {},
   "source": [
    "## Get instant properties\n",
    "\n",
    "Once the object is created, you can get instant properties suhc as file count, folder path, etc."
   ]
  },
  {
   "cell_type": "code",
   "execution_count": 12,
   "metadata": {},
   "outputs": [
    {
     "name": "stdout",
     "output_type": "stream",
     "text": [
      "File count: 3\n",
      "Directory path: Example.ErCoIn_folder_path\n",
      "File paths: ['/Users/imac/Downloads/cifkit/src/cifkit/data/ErCoIn/Er10Co9In20.cif', '/Users/imac/Downloads/cifkit/src/cifkit/data/ErCoIn/Er5In3.cif', '/Users/imac/Downloads/cifkit/src/cifkit/data/ErCoIn/ErCoIn5.cif']\n",
      "Cif objects: [<cifkit.models.cif.Cif object at 0x16c818980>, <cifkit.models.cif.Cif object at 0x16c86a2d0>, <cifkit.models.cif.Cif object at 0x16c8cb0b0>]\n"
     ]
    }
   ],
   "source": [
    "# Get .cif file count in the folder\n",
    "print(\"File count:\", ensemble.file_count) # 6\n",
    "\n",
    "# Get the directory path\n",
    "print(\"Directory path:\", ensemble.dir_path)\n",
    "\n",
    "# Get all file paths in the folder\n",
    "print(\"File paths:\", ensemble.file_paths)\n",
    "\n",
    "# Get all Cif objects initialized\n",
    "print(\"Cif objects:\", ensemble.cifs)"
   ]
  },
  {
   "cell_type": "markdown",
   "metadata": {},
   "source": [
    "## Get individual .cif properties\n",
    "\n",
    "The `CifEnsemble` object contains a property called `cifs` which contains a list of `Cif` objects. You may loop through each to access both instant and computed properties described in the previous `CIF` section."
   ]
  },
  {
   "cell_type": "code",
   "execution_count": 13,
   "metadata": {},
   "outputs": [
    {
     "name": "stdout",
     "output_type": "stream",
     "text": [
      "\n",
      "Er10Co9In20.cif\n",
      "Formula: Er10Co9In20\n",
      "Tag: \n",
      "Mixing type: full_occupancy\n",
      "Unique bond pairs: {('Er', 'Er'), ('Co', 'In'), ('In', 'In'), ('Co', 'Er'), ('Er', 'In'), ('Co', 'Co')}\n",
      "\n",
      "Er5In3.cif\n",
      "Formula: Er5In3\n",
      "Tag: \n",
      "Mixing type: full_occupancy\n",
      "Unique bond pairs: {('Er', 'Er'), ('In', 'In'), ('Er', 'In')}\n",
      "\n",
      "ErCoIn5.cif\n",
      "Formula: ErCoIn5\n",
      "Tag: rt\n",
      "Mixing type: full_occupancy\n",
      "Unique bond pairs: {('Er', 'Er'), ('Co', 'In'), ('In', 'In'), ('Co', 'Er'), ('Er', 'In'), ('Co', 'Co')}\n"
     ]
    }
   ],
   "source": [
    "# Print each property for each .cif file\n",
    "for cif in ensemble.cifs:\n",
    "  print(f\"\\n{cif.file_name}\")\n",
    "  print(\"Formula:\", cif.formula)\n",
    "  print(\"Tag:\", cif.tag)\n",
    "  print(\"Mixing type:\", cif.site_mixing_type)\n",
    "  print(\"Unique bond pairs:\", cif.bond_pairs)"
   ]
  },
  {
   "cell_type": "markdown",
   "metadata": {},
   "source": [
    "## Get unique properties\n",
    "\n",
    "You can get all unique attributres such as formulas, elements, etc in the folder."
   ]
  },
  {
   "cell_type": "code",
   "execution_count": 14,
   "metadata": {},
   "outputs": [
    {
     "name": "stdout",
     "output_type": "stream",
     "text": [
      "Unique formulas: {'ErCoIn5', 'Er5In3', 'Er10Co9In20'}\n",
      "Unique elements: {'In', 'Er', 'Co'}\n",
      "Unique structures: {'Ho10Ni9In20', 'HoCoGa5', 'Mn5Si3'}\n",
      "Unique atomic mixing types: {'full_occupancy'}\n",
      "Unique elements including nested: {'In', 'Er', 'Co'}\n",
      "Unique space group names: {'P4/nmm(originchoice2)', 'P63/mcm', 'P4/mmm'}\n",
      "Unique space group numbers: {129, 123, 193}\n",
      "Unique tags: {'', 'rt'}\n",
      "Unique composition types: {2, 3}\n"
     ]
    }
   ],
   "source": [
    "# Get unique formulas\n",
    "print(\"Unique formulas:\", ensemble.unique_formulas)\n",
    "\n",
    "# Get unique elements\n",
    "print(\"Unique elements:\", ensemble.unique_elements)\n",
    "\n",
    "# Get unique structures\n",
    "print(\"Unique structures:\", ensemble.unique_structures)\n",
    "\n",
    "# Get unique atomix mixing types\n",
    "print(\"Unique atomic mixing types:\", ensemble.unique_site_mixing_types)\n",
    "\n",
    "# Get unique elements\n",
    "print(\"Unique elements including nested:\", ensemble_nested.unique_elements)\n",
    "\n",
    "# Get unique space group names\n",
    "print(\"Unique space group names:\", ensemble.unique_space_group_names)\n",
    "\n",
    "# Get unique space group numbers\n",
    "print(\"Unique space group numbers:\",ensemble.unique_space_group_numbers)\n",
    "\n",
    "# Get unique tags\n",
    "print(\"Unique tags:\", ensemble.unique_tags)\n",
    "\n",
    "# Get unique composition types\n",
    "print(\"Unique composition types:\", ensemble.unique_composition_types)"
   ]
  },
  {
   "cell_type": "markdown",
   "metadata": {},
   "source": [
    "## Get overall stats by attribute\n",
    "\n",
    "Get the number of files for each unique properties."
   ]
  },
  {
   "cell_type": "code",
   "execution_count": 15,
   "metadata": {},
   "outputs": [
    {
     "name": "stdout",
     "output_type": "stream",
     "text": [
      "Structure stats: {'Ho10Ni9In20': 1, 'Mn5Si3': 1, 'HoCoGa5': 1}\n",
      "Formula stats: {'Er10Co9In20': 1, 'Er5In3': 1, 'ErCoIn5': 1}\n",
      "Tag stats: {'': 2, 'rt': 1}\n",
      "Space group number stats: {129: 1, 193: 1, 123: 1}\n",
      "Space group name stats: {'P4/nmm(originchoice2)': 1, 'P63/mcm': 1, 'P4/mmm': 1}\n",
      "Composition type stats: {3: 2, 2: 1}\n",
      "Unique elements stats: {'Er': 3, 'In': 3, 'Co': 2}\n",
      "Site mixing type stats: {'full_occupancy': 3}\n",
      "Supercell size stats: {2654: 1, 558: 1, 255: 1}\n",
      "Min distance stats: {2.626: 1, 3.102: 1, 2.691: 1}\n",
      "CN value using min dist method stats: {10: 1, 12: 2, 13: 1, 14: 2, 16: 1, 17: 1, 11: 2, 15: 1, 8: 1, 18: 1}\n",
      "CN value using best methods stats: {10: 1, 12: 2, 13: 1, 14: 3, 16: 1, 17: 1, 11: 2, 15: 1, 18: 1}\n"
     ]
    }
   ],
   "source": [
    "# Get file count per structure\n",
    "print(\"Structure stats:\", ensemble.structure_stats)\n",
    "\n",
    "# Get file count per formula\n",
    "print(\"Formula stats:\", ensemble.formula_stats)\n",
    "\n",
    "# Get file count per tag\n",
    "print(\"Tag stats:\", ensemble.tag_stats)\n",
    "\n",
    "# Get file count per space group number\n",
    "print(\"Space group number stats:\", ensemble.space_group_number_stats)\n",
    "\n",
    "# Get file count per space group name\n",
    "print(\"Space group name stats:\", ensemble.space_group_name_stats)\n",
    "\n",
    "# Get file count per composition type\n",
    "print(\"Composition type stats:\", ensemble.composition_type_stats)\n",
    "\n",
    "# Get file count per Element\n",
    "print(\"Unique elements stats:\", ensemble.unique_elements_stats)\n",
    "\n",
    "# Get file count per site mixing type\n",
    "print(\"Site mixing type stats:\", ensemble.site_mixing_type_stats)\n",
    "\n",
    "# Get file count per supercell atom count\n",
    "print(\"Supercell size stats:\", ensemble.supercell_size_stats)\n",
    "\n",
    "# Get file count per min distance\n",
    "print(\"Min distance stats:\", ensemble.min_distance_stats)\n",
    "\n",
    "# Get file count per CN value by min dist method\n",
    "print(\"CN value using min dist method stats:\", ensemble.unique_CN_values_by_min_dist_method_stat)\n",
    "\n",
    "# Get file count per CN value by best methods\n",
    "print(\"CN value using best methods stats:\", ensemble.unique_CN_values_by_method_methods_stat)"
   ]
  },
  {
   "cell_type": "markdown",
   "metadata": {},
   "source": [
    "## Filter .cif containing specific attributes\n"
   ]
  },
  {
   "cell_type": "code",
   "execution_count": 16,
   "metadata": {},
   "outputs": [
    {
     "data": {
      "text/plain": [
       "{'/Users/imac/Downloads/cifkit/src/cifkit/data/ErCoIn/Er10Co9In20.cif',\n",
       " '/Users/imac/Downloads/cifkit/src/cifkit/data/ErCoIn/ErCoIn5.cif'}"
      ]
     },
     "execution_count": 16,
     "metadata": {},
     "output_type": "execute_result"
    }
   ],
   "source": [
    "# Return file paths by formulas\n",
    "ensemble.filter_by_formulas([\"ErCoIn\", \"Er10Co9In20\"]) \n",
    "\n",
    "# Return file paths by structures\n",
    "ensemble.filter_by_structures([\"Mn5Si3\"])\n",
    "\n",
    "# Return file paths by space group names\n",
    "ensemble.filter_by_space_group_names([\"P4/mmm\"])\n",
    "\n",
    "# Return file paths by space group numbers\n",
    "ensemble.filter_by_space_group_numbers([123])\n",
    "\n",
    "# Return file paths by site mixing types\n",
    "ensemble.filter_by_site_mixing_types([\"full_occupancy\"])\n",
    "ensemble.filter_by_site_mixing_types([\"full_occupancy\", \"deficiency_without_atomic_mixing\"])\n",
    "\n",
    "# Return file paths by composition types (1-> unary, 2-> binary)\n",
    "ensemble.filter_by_composition_types([3])\n",
    "\n"
   ]
  },
  {
   "cell_type": "markdown",
   "metadata": {},
   "source": [
    "## Filter .cif by specific attributes\n",
    "\n",
    "Filter .cif files either containing a set of items or files that exactly contain the values passed. `cifkit` supports elements and coordination numbers.\n"
   ]
  },
  {
   "cell_type": "code",
   "execution_count": 51,
   "metadata": {},
   "outputs": [
    {
     "name": "stdout",
     "output_type": "stream",
     "text": [
      "\n",
      "File paths containing Er or Co or In:\n",
      "{'/Users/imac/Downloads/cifkit/src/cifkit/data/ErCoIn/ErCoIn5.cif', '/Users/imac/Downloads/cifkit/src/cifkit/data/ErCoIn/Er5In3.cif', '/Users/imac/Downloads/cifkit/src/cifkit/data/ErCoIn/Er10Co9In20.cif'}\n",
      "\n",
      "File paths containing Er and In:\n",
      "{'/Users/imac/Downloads/cifkit/src/cifkit/data/ErCoIn/Er5In3.cif'}\n",
      "\n",
      "File paths containing CN value of 15:\n",
      "{'/Users/imac/Downloads/cifkit/src/cifkit/data/ErCoIn/Er5In3.cif'}\n",
      "{'/Users/imac/Downloads/cifkit/src/cifkit/data/ErCoIn/Er5In3.cif'}\n",
      "\n",
      "File paths containing CN value of 11, 14, and 15:\n",
      "{'/Users/imac/Downloads/cifkit/src/cifkit/data/ErCoIn/Er5In3.cif'}\n",
      "{'/Users/imac/Downloads/cifkit/src/cifkit/data/ErCoIn/Er5In3.cif'}\n"
     ]
    }
   ],
   "source": [
    "\n",
    "print(\"\\nFile paths containing Er or Co or In:\")\n",
    "print(ensemble.filter_by_elements_containing([\"Er\", \"Co\", \"In\"])) # \n",
    "\n",
    "print(\"\\nFile paths containing Er and In:\")\n",
    "print(ensemble.filter_by_elements_exact_matching([\"Er\", \"In\"]))\n",
    "\n",
    "print(\"\\nFile paths containing CN value of 15:\")\n",
    "print(ensemble.filter_by_CN_min_dist_method_containing([15]))\n",
    "print(ensemble.filter_by_CN_best_methods_containing([15]))\n",
    "\n",
    "print(\"\\nFile paths containing CN value of 11, 14, and 15:\")\n",
    "print(ensemble.filter_by_CN_min_dist_method_exact_matching([11, 14, 15]))\n",
    "print(ensemble.filter_by_CN_best_methods_exact_matching([11, 14, 15]))"
   ]
  },
  {
   "cell_type": "markdown",
   "metadata": {},
   "source": [
    "## Filter by range"
   ]
  },
  {
   "cell_type": "code",
   "execution_count": 52,
   "metadata": {},
   "outputs": [
    {
     "name": "stdout",
     "output_type": "stream",
     "text": [
      "File paths with min distance between 1.0 Å and 3.0 Å:\n",
      " {'/Users/imac/Downloads/cifkit/src/cifkit/data/ErCoIn/ErCoIn5.cif', '/Users/imac/Downloads/cifkit/src/cifkit/data/ErCoIn/Er10Co9In20.cif'}\n",
      "File paths with supercell atom count above 500 and below 3000:\n",
      " {'/Users/imac/Downloads/cifkit/src/cifkit/data/ErCoIn/Er5In3.cif', '/Users/imac/Downloads/cifkit/src/cifkit/data/ErCoIn/Er10Co9In20.cif'}\n"
     ]
    }
   ],
   "source": [
    "# Return a set of .cif file paths with min distance between 1.0 Å and 3.0 Å\n",
    "print(\"File paths with min distance between 1.0 Å and 3.0 Å:\\n\", ensemble.filter_by_min_distance(1.0, 3.0))\n",
    "\n",
    "# Return a set of .cif file paths with supercell atom count above 500 and below 3000.\n",
    "print(\"File paths with supercell atom count above 500 and below 3000:\\n\",ensemble.filter_by_supercell_count(300, 3000))"
   ]
  },
  {
   "cell_type": "markdown",
   "metadata": {},
   "source": [
    "## Move and copy files\n",
    "\n",
    "Assume you have a set of file paths filered using the functions described in the previous section. Since we are using Jupyter and with predefined examples, you need to provide `file_paths` and `dest_dir_path` for your system.\n",
    "\n",
    "```python\n",
    "file_paths = {\n",
    "    \"tests/data/cif/ensemble_test/300169.cif\",\n",
    "    \"tests/data/cif/ensemble_test/300171.cif\",\n",
    "    \"tests/data/cif/ensemble_test/300170.cif\",\n",
    "}\n",
    "\n",
    "# To move files\n",
    "ensemble.move_cif_files(file_paths, dest_dir_path)\n",
    "\n",
    "# To copy files\n",
    "ensemble.copy_cif_files(file_paths, dest_dir_path)\n",
    "```"
   ]
  }
 ],
 "metadata": {
  "kernelspec": {
   "display_name": "cif-test",
   "language": "python",
   "name": "python3"
  },
  "language_info": {
   "codemirror_mode": {
    "name": "ipython",
    "version": 3
   },
   "file_extension": ".py",
   "mimetype": "text/x-python",
   "name": "python",
   "nbconvert_exporter": "python",
   "pygments_lexer": "ipython3",
   "version": "3.12.3"
  }
 },
 "nbformat": 4,
 "nbformat_minor": 2
}
