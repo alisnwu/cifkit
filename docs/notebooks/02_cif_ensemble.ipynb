{
 "cells": [
  {
   "cell_type": "markdown",
   "metadata": {},
   "source": [
    "# CifEnsemble"
   ]
  },
  {
   "cell_type": "markdown",
   "metadata": {},
   "source": [
    "## Initialize with folder path and preprocess automatically\n",
    "\n",
    "- `cifkit` standardizes the site labels in `atom_site_label`. Some site labels may contain a comma or a symbol such as M due to atomic mixing. CBA reformats each `atom_site_label` so it can be parsed into an element type that matches atom_site_type_symbol.\n",
    "\n",
    "- `cifkit` removes the content of `publ_author_address`. This section often has an incorrect format that otherwise requires manual modifications.\n",
    "\n",
    "- `cifkit` relocates any ill-formatted files, such as those with duplicate labels in `atom_site_label`, missing fractional coordinates, or files that require supercell generation."
   ]
  },
  {
   "cell_type": "code",
   "execution_count": 1,
   "metadata": {},
   "outputs": [
    {
     "name": "stdout",
     "output_type": "stream",
     "text": [
      "\n",
      "CIF Preprocessing in Example.ErCoIn_folder_path begun...\n",
      "\n",
      "Preprocessing /Users/imac/Downloads/cifkit/src/cifkit/data/ErCoIn/Er10Co9In20.cif (1/3)\n",
      "Preprocessing /Users/imac/Downloads/cifkit/src/cifkit/data/ErCoIn/ErCo2.68In0.32.cif (2/3)\n",
      "Preprocessing /Users/imac/Downloads/cifkit/src/cifkit/data/ErCoIn/ErCoIn5.cif (3/3)\n",
      "\n",
      "SUMMARY\n",
      "# of files moved to 'error_operations' folder: 0\n",
      "# of files moved to 'error_duplicate_labels' folder: 0\n",
      "# of files moved to 'error_wrong_loop_value' folder: 0\n",
      "# of files moved to 'error_coords' folder: 0\n",
      "# of files moved to 'error_invalid_label' folder: 0\n",
      "# of files moved to 'error_others' folder: 0\n",
      "\n",
      "\n",
      "CIF Preprocessing in Example.ErCoIn_folder_path begun...\n",
      "\n",
      "Preprocessing /Users/imac/Downloads/cifkit/src/cifkit/data/ErCoIn/Er10Co9In20.cif (1/3)\n",
      "Preprocessing /Users/imac/Downloads/cifkit/src/cifkit/data/ErCoIn/ErCo2.68In0.32.cif (2/3)\n",
      "Preprocessing /Users/imac/Downloads/cifkit/src/cifkit/data/ErCoIn/ErCoIn5.cif (3/3)\n",
      "\n",
      "SUMMARY\n",
      "# of files moved to 'error_operations' folder: 0\n",
      "# of files moved to 'error_duplicate_labels' folder: 0\n",
      "# of files moved to 'error_wrong_loop_value' folder: 0\n",
      "# of files moved to 'error_coords' folder: 0\n",
      "# of files moved to 'error_invalid_label' folder: 0\n",
      "# of files moved to 'error_others' folder: 0\n",
      "\n",
      "File count: 3\n",
      "File count including nested: 3\n",
      "Directory path: Example.ErCoIn_folder_path\n",
      "File paths: ['/Users/imac/Downloads/cifkit/src/cifkit/data/ErCoIn/Er10Co9In20.cif', '/Users/imac/Downloads/cifkit/src/cifkit/data/ErCoIn/ErCo2.68In0.32.cif', '/Users/imac/Downloads/cifkit/src/cifkit/data/ErCoIn/ErCoIn5.cif']\n",
      "Cif objects: [<cifkit.models.cif.Cif object at 0x10a9f5070>, <cifkit.models.cif.Cif object at 0x167de9ac0>, <cifkit.models.cif.Cif object at 0x168477890>]\n"
     ]
    }
   ],
   "source": [
    "from cifkit import CifEnsemble, Example\n",
    "\n",
    "# Initialize\n",
    "ensemble = CifEnsemble(Example.ErCoIn_folder_path)\n",
    "\n",
    "# Initialize with nested .cif files in the folder\n",
    "ensemble_nested = CifEnsemble(Example.ErCoIn_folder_path, add_nested_files=True)\n",
    "\n",
    "# Get .cif file count in the folder\n",
    "print(\"File count:\", ensemble.file_count) # 6\n",
    "\n",
    "# Get .cif file count in the folder including nested files\n",
    "print(\"File count including nested:\", ensemble_nested.file_count) # 7\n",
    "\n",
    "# Get the directory path\n",
    "print(\"Directory path:\", ensemble.dir_path)\n",
    "\n",
    "# Get all file paths in the folder\n",
    "print(\"File paths:\", ensemble.file_paths)\n",
    "\n",
    "# Get all Cif objects initialized\n",
    "print(\"Cif objects:\", ensemble.cifs)"
   ]
  },
  {
   "cell_type": "markdown",
   "metadata": {},
   "source": [
    "## Get individual .cif properties\n",
    "\n",
    "You may loop through the list of `Cif` objects to access all both instant and computed properties described in Section 1."
   ]
  },
  {
   "cell_type": "code",
   "execution_count": 2,
   "metadata": {},
   "outputs": [
    {
     "name": "stdout",
     "output_type": "stream",
     "text": [
      "\n",
      "Er10Co9In20.cif\n",
      "Formula: Er10Co9In20\n",
      "Tag: \n",
      "Mixing type: full_occupancy\n",
      "Unique bond pairs: {('Er', 'Er'), ('Co', 'In'), ('Co', 'Co'), ('Co', 'Er'), ('In', 'In'), ('Er', 'In')}\n",
      "\n",
      "ErCo2.68In0.32.cif\n",
      "Formula: ErCo2.68In0.32\n",
      "Tag: \n",
      "Mixing type: full_occupancy_atomic_mixing\n",
      "Unique bond pairs: {('Er', 'Er'), ('Co', 'In'), ('Co', 'Co'), ('Co', 'Er'), ('In', 'In'), ('Er', 'In')}\n",
      "\n",
      "ErCoIn5.cif\n",
      "Formula: ErCoIn5\n",
      "Tag: rt\n",
      "Mixing type: full_occupancy\n",
      "Unique bond pairs: {('Er', 'Er'), ('Co', 'In'), ('Co', 'Co'), ('Co', 'Er'), ('In', 'In'), ('Er', 'In')}\n"
     ]
    }
   ],
   "source": [
    "# Print each property for each .cif file\n",
    "for cif in ensemble.cifs:\n",
    "  print(f\"\\n{cif.file_name}\")\n",
    "  print(\"Formula:\", cif.formula)\n",
    "  print(\"Tag:\", cif.tag)\n",
    "  print(\"Mixing type:\", cif.site_mixing_type)\n",
    "  print(\"Unique bond pairs:\", cif.bond_pairs)"
   ]
  },
  {
   "cell_type": "markdown",
   "metadata": {},
   "source": [
    "## Get unique properties\n",
    "\n",
    "Here, we introduce properties that determine unique methods.\n"
   ]
  },
  {
   "cell_type": "code",
   "execution_count": 3,
   "metadata": {},
   "outputs": [
    {
     "name": "stdout",
     "output_type": "stream",
     "text": [
      "Unique formulas: {'ErCo2.68In0.32', 'ErCoIn5', 'Er10Co9In20'}\n",
      "Unique elements: {'Er', 'Co', 'In'}\n",
      "Unique structures: {'Ho10Ni9In20', 'HoCoGa5', 'PuNi3'}\n",
      "Unique atomic mixing types: {'full_occupancy', 'full_occupancy_atomic_mixing'}\n",
      "Unique elements including nested: {'Er', 'Co', 'In'}\n",
      "Unique space group names: {'R-3mh', 'P4/mmm', 'P4/nmm(originchoice2)'}\n",
      "Unique space group numbers: {129, 123, 166}\n",
      "Unique tags: {'', 'rt'}\n",
      "Unique composition types: {3}\n"
     ]
    }
   ],
   "source": [
    "# Get unique formulas\n",
    "print(\"Unique formulas:\", ensemble.unique_formulas)\n",
    "\n",
    "# Get unique elements\n",
    "print(\"Unique elements:\", ensemble.unique_elements)\n",
    "\n",
    "# Get unique structures\n",
    "print(\"Unique structures:\", ensemble.unique_structures)\n",
    "\n",
    "# Get unique atomix mixing types\n",
    "print(\"Unique atomic mixing types:\", ensemble.unique_site_mixing_types)\n",
    "\n",
    "# Get unique elements\n",
    "print(\"Unique elements including nested:\", ensemble_nested.unique_elements)\n",
    "\n",
    "# Get unique space group names\n",
    "print(\"Unique space group names:\", ensemble.unique_space_group_names)\n",
    "\n",
    "# Get unique space group numbers\n",
    "print(\"Unique space group numbers:\",ensemble.unique_space_group_numbers)\n",
    "\n",
    "# Get unique tags\n",
    "print(\"Unique tags:\", ensemble.unique_tags)\n",
    "\n",
    "# Get unique composition types\n",
    "print(\"Unique composition types:\", ensemble.unique_composition_types)"
   ]
  },
  {
   "cell_type": "markdown",
   "metadata": {},
   "source": [
    "## Get unique and average computed properties\n",
    "\n",
    "As shown in Section 1, the following properties require computing all distances."
   ]
  },
  {
   "cell_type": "code",
   "execution_count": 16,
   "metadata": {},
   "outputs": [
    {
     "name": "stdout",
     "output_type": "stream",
     "text": [
      "\n",
      "CIF Preprocessing in Example.ErCoIn_folder_path begun...\n",
      "\n",
      "Preprocessing /Users/imac/Downloads/cifkit/src/cifkit/data/ErCoIn/Er10Co9In20.cif (1/3)\n",
      "Preprocessing /Users/imac/Downloads/cifkit/src/cifkit/data/ErCoIn/ErCo2.68In0.32.cif (2/3)\n",
      "Preprocessing /Users/imac/Downloads/cifkit/src/cifkit/data/ErCoIn/ErCoIn5.cif (3/3)\n",
      "\n",
      "SUMMARY\n",
      "# of files moved to 'error_operations' folder: 0\n",
      "# of files moved to 'error_duplicate_labels' folder: 0\n",
      "# of files moved to 'error_wrong_loop_value' folder: 0\n",
      "# of files moved to 'error_coords' folder: 0\n",
      "# of files moved to 'error_invalid_label' folder: 0\n",
      "# of files moved to 'error_others' folder: 0\n",
      "\n",
      "Er10Co9In20.cif\n",
      "full_occupancy\n",
      "{'Er4': {'volume_of_polyhedron': 108.299, 'distance_from_avg_point_to_center': 0.126, 'number_of_vertices': 17, 'number_of_edges': 45, 'number_of_faces': 30, 'shortest_distance_to_face': 2.404, 'shortest_distance_to_edge': 2.297, 'volume_of_inscribed_sphere': 58.23, 'packing_efficiency': 0.538, 'method_used': 'dist_by_shortest_dist'}, 'Co3': {'volume_of_polyhedron': 52.259, 'distance_from_avg_point_to_center': 0.141, 'number_of_vertices': 10, 'number_of_edges': 24, 'number_of_faces': 16, 'shortest_distance_to_face': 2.051, 'shortest_distance_to_edge': 1.995, 'volume_of_inscribed_sphere': 36.162, 'packing_efficiency': 0.692, 'method_used': 'dist_by_CIF_radius_sum'}, 'In5': {'volume_of_polyhedron': 79.464, 'distance_from_avg_point_to_center': 0.095, 'number_of_vertices': 13, 'number_of_edges': 33, 'number_of_faces': 22, 'shortest_distance_to_face': 2.386, 'shortest_distance_to_edge': 2.352, 'volume_of_inscribed_sphere': 56.93, 'packing_efficiency': 0.716, 'method_used': 'dist_by_shortest_dist'}, 'Co2': {'volume_of_polyhedron': 51.9, 'distance_from_avg_point_to_center': 0.061, 'number_of_vertices': 10, 'number_of_edges': 24, 'number_of_faces': 16, 'shortest_distance_to_face': 2.012, 'shortest_distance_to_edge': 2.027, 'volume_of_inscribed_sphere': 34.124, 'packing_efficiency': 0.657, 'method_used': 'dist_by_shortest_dist'}, 'In3': {'volume_of_polyhedron': 77.183, 'distance_from_avg_point_to_center': 0.146, 'number_of_vertices': 13, 'number_of_edges': 33, 'number_of_faces': 22, 'shortest_distance_to_face': 2.327, 'shortest_distance_to_edge': 2.208, 'volume_of_inscribed_sphere': 52.812, 'packing_efficiency': 0.684, 'method_used': 'dist_by_shortest_dist'}, 'Er3': {'volume_of_polyhedron': 100.947, 'distance_from_avg_point_to_center': 0.048, 'number_of_vertices': 16, 'number_of_edges': 42, 'number_of_faces': 28, 'shortest_distance_to_face': 2.48, 'shortest_distance_to_edge': 2.421, 'volume_of_inscribed_sphere': 63.923, 'packing_efficiency': 0.633, 'method_used': 'dist_by_shortest_dist'}, 'In4': {'volume_of_polyhedron': 71.274, 'distance_from_avg_point_to_center': 0.3, 'number_of_vertices': 12, 'number_of_edges': 30, 'number_of_faces': 20, 'shortest_distance_to_face': 1.845, 'shortest_distance_to_edge': 2.063, 'volume_of_inscribed_sphere': 26.313, 'packing_efficiency': 0.369, 'method_used': 'dist_by_shortest_dist'}, 'In1': {'volume_of_polyhedron': 83.841, 'distance_from_avg_point_to_center': 0.042, 'number_of_vertices': 14, 'number_of_edges': 33, 'number_of_faces': 22, 'shortest_distance_to_face': 2.243, 'shortest_distance_to_edge': 2.412, 'volume_of_inscribed_sphere': 47.293, 'packing_efficiency': 0.564, 'method_used': 'dist_by_shortest_dist'}, 'In2': {'volume_of_polyhedron': 73.624, 'distance_from_avg_point_to_center': 0.099, 'number_of_vertices': 12, 'number_of_edges': 30, 'number_of_faces': 20, 'shortest_distance_to_face': 2.241, 'shortest_distance_to_edge': 2.258, 'volume_of_inscribed_sphere': 47.156, 'packing_efficiency': 0.64, 'method_used': 'dist_by_shortest_dist'}, 'Er1': {'volume_of_polyhedron': 67.293, 'distance_from_avg_point_to_center': 0.044, 'number_of_vertices': 12, 'number_of_edges': 30, 'number_of_faces': 20, 'shortest_distance_to_face': 2.079, 'shortest_distance_to_edge': 2.096, 'volume_of_inscribed_sphere': 37.64, 'packing_efficiency': 0.559, 'method_used': 'dist_by_shortest_dist'}, 'Er2': {'volume_of_polyhedron': 100.712, 'distance_from_avg_point_to_center': 0.058, 'number_of_vertices': 16, 'number_of_edges': 42, 'number_of_faces': 28, 'shortest_distance_to_face': 2.348, 'shortest_distance_to_edge': 2.199, 'volume_of_inscribed_sphere': 54.256, 'packing_efficiency': 0.539, 'method_used': 'dist_by_shortest_dist'}, 'Co1': {'volume_of_polyhedron': 64.253, 'distance_from_avg_point_to_center': 0.0, 'number_of_vertices': 12, 'number_of_edges': 30, 'number_of_faces': 20, 'shortest_distance_to_face': 2.267, 'shortest_distance_to_edge': 2.136, 'volume_of_inscribed_sphere': 48.827, 'packing_efficiency': 0.76, 'method_used': 'dist_by_shortest_dist'}}\n",
      "ErCo2.68In0.32.cif\n",
      "full_occupancy_atomic_mixing\n",
      "Error computing polyhedron metrics: index 12 is out of bounds for axis 0 with size 12\n"
     ]
    },
    {
     "ename": "TypeError",
     "evalue": "'NoneType' object is not subscriptable",
     "output_type": "error",
     "traceback": [
      "\u001b[0;31m---------------------------------------------------------------------------\u001b[0m",
      "\u001b[0;31mTypeError\u001b[0m                                 Traceback (most recent call last)",
      "Cell \u001b[0;32mIn[16], line 9\u001b[0m\n\u001b[1;32m      7\u001b[0m     \u001b[38;5;28mprint\u001b[39m(cif\u001b[38;5;241m.\u001b[39mfile_name)\n\u001b[1;32m      8\u001b[0m     \u001b[38;5;28mprint\u001b[39m(cif\u001b[38;5;241m.\u001b[39msite_mixing_type)\u001b[38;5;66;03m# Get unique CN values\u001b[39;00m\n\u001b[0;32m----> 9\u001b[0m     \u001b[38;5;28mprint\u001b[39m(\u001b[43mcif\u001b[49m\u001b[38;5;241;43m.\u001b[39;49m\u001b[43mCN_best_methods\u001b[49m)\n\u001b[1;32m     11\u001b[0m \u001b[38;5;66;03m# print(\"CN_unique_values_by_min_dist_method:\", ensemble.CN_unique_values_by_min_dist_method)\u001b[39;00m\n\u001b[1;32m     12\u001b[0m \u001b[38;5;66;03m# print(\"CN_unique_values_by_best_methods:\", ensemble.CN_unique_values_by_best_methods)\u001b[39;00m\n",
      "File \u001b[0;32m~/Downloads/cifkit/src/cifkit/models/cif.py:97\u001b[0m, in \u001b[0;36mensure_connections.<locals>.wrapper\u001b[0;34m(self, *args, **kwargs)\u001b[0m\n\u001b[1;32m     95\u001b[0m \u001b[38;5;28;01mdef\u001b[39;00m \u001b[38;5;21mwrapper\u001b[39m(\u001b[38;5;28mself\u001b[39m, \u001b[38;5;241m*\u001b[39margs, \u001b[38;5;241m*\u001b[39m\u001b[38;5;241m*\u001b[39mkwargs):\n\u001b[1;32m     96\u001b[0m     \u001b[38;5;28;01mif\u001b[39;00m \u001b[38;5;28mself\u001b[39m\u001b[38;5;241m.\u001b[39mconnections \u001b[38;5;129;01mis\u001b[39;00m \u001b[38;5;28;01mNone\u001b[39;00m:\n\u001b[0;32m---> 97\u001b[0m         \u001b[38;5;28;43mself\u001b[39;49m\u001b[38;5;241;43m.\u001b[39;49m\u001b[43mcompute_connections\u001b[49m\u001b[43m(\u001b[49m\u001b[43m)\u001b[49m\n\u001b[1;32m     98\u001b[0m     \u001b[38;5;28;01mreturn\u001b[39;00m func(\u001b[38;5;28mself\u001b[39m, \u001b[38;5;241m*\u001b[39margs, \u001b[38;5;241m*\u001b[39m\u001b[38;5;241m*\u001b[39mkwargs)\n",
      "File \u001b[0;32m~/Downloads/cifkit/src/cifkit/models/cif.py:285\u001b[0m, in \u001b[0;36mCif.compute_connections\u001b[0;34m(self, cutoff_radius)\u001b[0m\n\u001b[1;32m    277\u001b[0m \u001b[38;5;28mself\u001b[39m\u001b[38;5;241m.\u001b[39m_CN_max_gap_per_site \u001b[38;5;241m=\u001b[39m compute_CN_max_gap_per_site(\n\u001b[1;32m    278\u001b[0m     \u001b[38;5;28mself\u001b[39m\u001b[38;5;241m.\u001b[39mradius_sum,\n\u001b[1;32m    279\u001b[0m     \u001b[38;5;28mself\u001b[39m\u001b[38;5;241m.\u001b[39mconnections,\n\u001b[1;32m    280\u001b[0m     \u001b[38;5;28mself\u001b[39m\u001b[38;5;241m.\u001b[39mis_radius_data_available,\n\u001b[1;32m    281\u001b[0m     \u001b[38;5;28mself\u001b[39m\u001b[38;5;241m.\u001b[39msite_mixing_type,\n\u001b[1;32m    282\u001b[0m )\n\u001b[1;32m    284\u001b[0m \u001b[38;5;66;03m# Find the best methods\u001b[39;00m\n\u001b[0;32m--> 285\u001b[0m \u001b[38;5;28mself\u001b[39m\u001b[38;5;241m.\u001b[39m_CN_best_methods \u001b[38;5;241m=\u001b[39m \u001b[43mfind_best_polyhedron\u001b[49m\u001b[43m(\u001b[49m\n\u001b[1;32m    286\u001b[0m \u001b[43m    \u001b[49m\u001b[38;5;28;43mself\u001b[39;49m\u001b[38;5;241;43m.\u001b[39;49m\u001b[43mCN_max_gap_per_site\u001b[49m\u001b[43m,\u001b[49m\u001b[43m \u001b[49m\u001b[38;5;28;43mself\u001b[39;49m\u001b[38;5;241;43m.\u001b[39;49m\u001b[43mconnections\u001b[49m\n\u001b[1;32m    287\u001b[0m \u001b[43m\u001b[49m\u001b[43m)\u001b[49m\n\u001b[1;32m    289\u001b[0m \u001b[38;5;66;03m# Get CN connections by the best methods\u001b[39;00m\n\u001b[1;32m    290\u001b[0m \u001b[38;5;28mself\u001b[39m\u001b[38;5;241m.\u001b[39m_CN_connections_by_best_methods \u001b[38;5;241m=\u001b[39m (\n\u001b[1;32m    291\u001b[0m     get_CN_connections_by_best_methods(\n\u001b[1;32m    292\u001b[0m         \u001b[38;5;28mself\u001b[39m\u001b[38;5;241m.\u001b[39mCN_best_methods, \u001b[38;5;28mself\u001b[39m\u001b[38;5;241m.\u001b[39mconnections\n\u001b[1;32m    293\u001b[0m     )\n\u001b[1;32m    294\u001b[0m )\n",
      "File \u001b[0;32m~/Downloads/cifkit/src/cifkit/coordination/filter.py:50\u001b[0m, in \u001b[0;36mfind_best_polyhedron\u001b[0;34m(max_gaps_per_label, connections)\u001b[0m\n\u001b[1;32m     45\u001b[0m polyhedron_metrics \u001b[38;5;241m=\u001b[39m compute_polyhedron_metrics(\n\u001b[1;32m     46\u001b[0m     polyhedron_points, hull\n\u001b[1;32m     47\u001b[0m )\n\u001b[1;32m     48\u001b[0m \u001b[38;5;66;03m# Check if the polyhedron has the lowest distance to center.\u001b[39;00m\n\u001b[1;32m     49\u001b[0m \u001b[38;5;28;01mif\u001b[39;00m (\n\u001b[0;32m---> 50\u001b[0m     \u001b[43mpolyhedron_metrics\u001b[49m\u001b[43m[\u001b[49m\u001b[38;5;124;43m\"\u001b[39;49m\u001b[38;5;124;43mdistance_from_avg_point_to_center\u001b[39;49m\u001b[38;5;124;43m\"\u001b[39;49m\u001b[43m]\u001b[49m\n\u001b[1;32m     51\u001b[0m     \u001b[38;5;241m<\u001b[39m min_distance_to_center\n\u001b[1;32m     52\u001b[0m ):\n\u001b[1;32m     53\u001b[0m     min_distance_to_center \u001b[38;5;241m=\u001b[39m polyhedron_metrics[\n\u001b[1;32m     54\u001b[0m         \u001b[38;5;124m\"\u001b[39m\u001b[38;5;124mdistance_from_avg_point_to_center\u001b[39m\u001b[38;5;124m\"\u001b[39m\n\u001b[1;32m     55\u001b[0m     ]\n\u001b[1;32m     56\u001b[0m     best_polyhedron_metrics \u001b[38;5;241m=\u001b[39m polyhedron_metrics\n",
      "\u001b[0;31mTypeError\u001b[0m: 'NoneType' object is not subscriptable"
     ]
    }
   ],
   "source": [
    "from cifkit import CifEnsemble, Example\n",
    "\n",
    "# Initialize\n",
    "ensemble = CifEnsemble(Example.ErCoIn_folder_path)\n",
    "\n",
    "for cif in ensemble.cifs:\n",
    "    print(cif.file_name)\n",
    "    print(cif.site_mixing_type)# Get unique CN values\n",
    "    print(cif.CN_best_methods)\n",
    "\n",
    "# print(\"CN_unique_values_by_min_dist_method:\", ensemble.CN_unique_values_by_min_dist_method)\n",
    "# print(\"CN_unique_values_by_best_methods:\", ensemble.CN_unique_values_by_best_methods)"
   ]
  },
  {
   "cell_type": "markdown",
   "metadata": {},
   "source": [
    "## Get overall stats by attribute\n",
    "\n",
    "Get the number of files for each unique properties."
   ]
  },
  {
   "cell_type": "code",
   "execution_count": null,
   "metadata": {},
   "outputs": [],
   "source": [
    "# Get file count per structure\n",
    "print(\"Structure stats:\", ensemble.structure_stats)\n",
    "\n",
    "# Get file count per formula\n",
    "print(\"Formula stats:\", ensemble.formula_stats)\n",
    "\n",
    "# Get file count per tag\n",
    "print(\"Tag stats:\", ensemble.tag_stats)\n",
    "\n",
    "# Get file count per space group number\n",
    "print(\"Space group number stats:\", ensemble.space_group_number_stats)\n",
    "\n",
    "# Get file count per space group name\n",
    "print(\"Space group name stats:\", ensemble.space_group_name_stats)\n",
    "\n",
    "# Get file count per composition type\n",
    "print(\"Composition type stats:\", ensemble.composition_type_stats)\n",
    "\n",
    "# Get file count per Element\n",
    "print(\"Unique elements stats:\", ensemble.unique_elements_stats)\n",
    "\n",
    "# Get file count per site mixing type\n",
    "print(\"Site mixing type stats:\", ensemble.site_mixing_type_stats)\n",
    "\n",
    "# Get file count per supercell atom count\n",
    "print(\"Supercell size stats:\", ensemble.supercell_size_stats)\n",
    "\n",
    "# Get file count per min distance\n",
    "print(\"Min distance stats:\", ensemble.min_distance_stats)\n",
    "\n",
    "# Get file count per CN value by min dist method\n",
    "print(\"CN value using min dist method stats:\", ensemble.unique_CN_values_by_min_dist_method_stat)\n",
    "\n",
    "# Get file count per CN value by best methods\n",
    "print(\"CN value using best methods stats:\", ensemble.unique_CN_values_by_method_methods_stat)"
   ]
  },
  {
   "cell_type": "markdown",
   "metadata": {},
   "source": [
    "## Filter .cif containing specific attributes\n"
   ]
  },
  {
   "cell_type": "code",
   "execution_count": null,
   "metadata": {},
   "outputs": [],
   "source": [
    "# Return file paths by formulas\n",
    "ensemble.filter_by_formulas([\"LaRu2Ge2\"])\n",
    "ensemble.filter_by_formulas([\"LaRu2Ge2\", \"Mo\"]) # LaRu2Ge2 or Mo\n",
    "\n",
    "# Return file paths by structures\n",
    "ensemble.filter_by_structures([\"CeAl2Ga2\"])\n",
    "\n",
    "# Return file paths by space group names\n",
    "ensemble.filter_by_space_group_names([\"Im-3m\"])\n",
    "\n",
    "# Return file paths by space group numbers\n",
    "ensemble.filter_by_space_group_numbers([139])\n",
    "\n",
    "# Return file paths by site mixing types\n",
    "ensemble.filter_by_site_mixing_types([\"full_occupancy\"])\n",
    "ensemble.filter_by_site_mixing_types([\"full_occupancy\", \"deficiency_without_atomic_mixing\"])\n",
    "\n",
    "# Return file paths by composition types (1-> unary, 2-> binary)\n",
    "ensemble.filter_by_composition_types([3])\n",
    "\n"
   ]
  },
  {
   "cell_type": "markdown",
   "metadata": {},
   "source": [
    "## Filter .cif by specific attributes\n",
    "\n",
    "Filter .cif files either containing a set of items or files that exactly contain the values passed. `cifkit` supports elements and coordination numbers.\n"
   ]
  },
  {
   "cell_type": "code",
   "execution_count": null,
   "metadata": {},
   "outputs": [
    {
     "ename": "AttributeError",
     "evalue": "'Cif' object has no attribute '_CN_unique_values_by_min_dist_method'",
     "output_type": "error",
     "traceback": [
      "\u001b[0;31m---------------------------------------------------------------------------\u001b[0m",
      "\u001b[0;31mAttributeError\u001b[0m                            Traceback (most recent call last)",
      "Cell \u001b[0;32mIn[8], line 8\u001b[0m\n\u001b[1;32m      5\u001b[0m ensemble\u001b[38;5;241m.\u001b[39mfilter_by_elements_exact_matching([\u001b[38;5;124m\"\u001b[39m\u001b[38;5;124mLa\u001b[39m\u001b[38;5;124m\"\u001b[39m, \u001b[38;5;124m\"\u001b[39m\u001b[38;5;124mRu\u001b[39m\u001b[38;5;124m\"\u001b[39m, \u001b[38;5;124m\"\u001b[39m\u001b[38;5;124mGe\u001b[39m\u001b[38;5;124m\"\u001b[39m])\n\u001b[1;32m      7\u001b[0m \u001b[38;5;66;03m# Return a list of files that contain CN value of 9\u001b[39;00m\n\u001b[0;32m----> 8\u001b[0m \u001b[43mensemble\u001b[49m\u001b[38;5;241;43m.\u001b[39;49m\u001b[43mfilter_by_CN_dist_method_containing\u001b[49m\u001b[43m(\u001b[49m\u001b[43m[\u001b[49m\u001b[38;5;241;43m9\u001b[39;49m\u001b[43m]\u001b[49m\u001b[43m)\u001b[49m\n\u001b[1;32m      9\u001b[0m ensemble\u001b[38;5;241m.\u001b[39mfilter_by_CN_best_methods_containing([\u001b[38;5;241m9\u001b[39m])\n\u001b[1;32m     11\u001b[0m \u001b[38;5;66;03m# # Return a list of files that exactly contains the exact values passed\u001b[39;00m\n\u001b[1;32m     12\u001b[0m \u001b[38;5;66;03m# ensemble.filter_by_CN_dist_method_exact_matching([16, 12, 5])\u001b[39;00m\n\u001b[1;32m     13\u001b[0m \u001b[38;5;66;03m# ensemble.filter_by_CN_best_methods_exact_matching([16, 10, 12])\u001b[39;00m\n",
      "File \u001b[0;32m~/Downloads/cifkit/src/cifkit/models/cif_ensemble.py:272\u001b[0m, in \u001b[0;36mCifEnsemble.filter_by_CN_dist_method_containing\u001b[0;34m(self, values)\u001b[0m\n\u001b[1;32m    269\u001b[0m \u001b[38;5;28;01mdef\u001b[39;00m \u001b[38;5;21mfilter_by_CN_dist_method_containing\u001b[39m(\n\u001b[1;32m    270\u001b[0m     \u001b[38;5;28mself\u001b[39m, values: \u001b[38;5;28mlist\u001b[39m[\u001b[38;5;28mint\u001b[39m]\n\u001b[1;32m    271\u001b[0m ) \u001b[38;5;241m-\u001b[39m\u001b[38;5;241m>\u001b[39m \u001b[38;5;28mset\u001b[39m[\u001b[38;5;28mstr\u001b[39m]:\n\u001b[0;32m--> 272\u001b[0m     \u001b[38;5;28;01mreturn\u001b[39;00m \u001b[38;5;28;43mself\u001b[39;49m\u001b[38;5;241;43m.\u001b[39;49m\u001b[43m_filter_contains_any\u001b[49m\u001b[43m(\u001b[49m\n\u001b[1;32m    273\u001b[0m \u001b[43m        \u001b[49m\u001b[38;5;124;43m\"\u001b[39;49m\u001b[38;5;124;43mCN_unique_values_by_min_dist_method\u001b[39;49m\u001b[38;5;124;43m\"\u001b[39;49m\u001b[43m,\u001b[49m\u001b[43m \u001b[49m\u001b[43mvalues\u001b[49m\n\u001b[1;32m    274\u001b[0m \u001b[43m    \u001b[49m\u001b[43m)\u001b[49m\n",
      "File \u001b[0;32m~/Downloads/cifkit/src/cifkit/models/cif_ensemble.py:222\u001b[0m, in \u001b[0;36mCifEnsemble._filter_contains_any\u001b[0;34m(self, property_name, values)\u001b[0m\n\u001b[1;32m    220\u001b[0m cif_file_paths \u001b[38;5;241m=\u001b[39m \u001b[38;5;28mset\u001b[39m()\n\u001b[1;32m    221\u001b[0m \u001b[38;5;28;01mfor\u001b[39;00m cif \u001b[38;5;129;01min\u001b[39;00m \u001b[38;5;28mself\u001b[39m\u001b[38;5;241m.\u001b[39mcifs:\n\u001b[0;32m--> 222\u001b[0m     property_value: \u001b[38;5;28mstr\u001b[39m \u001b[38;5;241m=\u001b[39m \u001b[38;5;28;43mgetattr\u001b[39;49m\u001b[43m(\u001b[49m\u001b[43mcif\u001b[49m\u001b[43m,\u001b[49m\u001b[43m \u001b[49m\u001b[43mproperty_name\u001b[49m\u001b[43m)\u001b[49m\n\u001b[1;32m    223\u001b[0m     \u001b[38;5;28;01mif\u001b[39;00m \u001b[38;5;28many\u001b[39m(val \u001b[38;5;129;01min\u001b[39;00m property_value \u001b[38;5;28;01mfor\u001b[39;00m val \u001b[38;5;129;01min\u001b[39;00m values):\n\u001b[1;32m    224\u001b[0m         cif_file_paths\u001b[38;5;241m.\u001b[39madd(cif\u001b[38;5;241m.\u001b[39mfile_path)\n",
      "File \u001b[0;32m~/Downloads/cifkit/src/cifkit/models/cif.py:98\u001b[0m, in \u001b[0;36mensure_connections.<locals>.wrapper\u001b[0;34m(self, *args, **kwargs)\u001b[0m\n\u001b[1;32m     96\u001b[0m \u001b[38;5;28;01mif\u001b[39;00m \u001b[38;5;28mself\u001b[39m\u001b[38;5;241m.\u001b[39mconnections \u001b[38;5;129;01mis\u001b[39;00m \u001b[38;5;28;01mNone\u001b[39;00m:\n\u001b[1;32m     97\u001b[0m     \u001b[38;5;28mself\u001b[39m\u001b[38;5;241m.\u001b[39mcompute_connections()\n\u001b[0;32m---> 98\u001b[0m \u001b[38;5;28;01mreturn\u001b[39;00m \u001b[43mfunc\u001b[49m\u001b[43m(\u001b[49m\u001b[38;5;28;43mself\u001b[39;49m\u001b[43m,\u001b[49m\u001b[43m \u001b[49m\u001b[38;5;241;43m*\u001b[39;49m\u001b[43margs\u001b[49m\u001b[43m,\u001b[49m\u001b[43m \u001b[49m\u001b[38;5;241;43m*\u001b[39;49m\u001b[38;5;241;43m*\u001b[39;49m\u001b[43mkwargs\u001b[49m\u001b[43m)\u001b[49m\n",
      "File \u001b[0;32m~/Downloads/cifkit/src/cifkit/models/cif.py:483\u001b[0m, in \u001b[0;36mCif.CN_unique_values_by_min_dist_method\u001b[0;34m(self)\u001b[0m\n\u001b[1;32m    480\u001b[0m \u001b[38;5;129m@property\u001b[39m\n\u001b[1;32m    481\u001b[0m \u001b[38;5;129m@ensure_connections\u001b[39m\n\u001b[1;32m    482\u001b[0m \u001b[38;5;28;01mdef\u001b[39;00m \u001b[38;5;21mCN_unique_values_by_min_dist_method\u001b[39m(\u001b[38;5;28mself\u001b[39m):\n\u001b[0;32m--> 483\u001b[0m     \u001b[38;5;28;01mreturn\u001b[39;00m \u001b[38;5;28;43mself\u001b[39;49m\u001b[38;5;241;43m.\u001b[39;49m\u001b[43m_CN_unique_values_by_min_dist_method\u001b[49m\n",
      "\u001b[0;31mAttributeError\u001b[0m: 'Cif' object has no attribute '_CN_unique_values_by_min_dist_method'"
     ]
    }
   ],
   "source": [
    "\n",
    "# Return a list of files that contain one of the elements\n",
    "ensemble.filter_by_elements_containing([\"Mo\"])\n",
    "\n",
    "# Return a list of files that exaclty contain the specific elements\n",
    "ensemble.filter_by_elements_exact_matching([\"La\", \"Ru\", \"Ge\"])\n",
    "\n",
    "# Return a list of files that contain CN value of 9\n",
    "ensemble.filter_by_CN_dist_method_containing([9])\n",
    "ensemble.filter_by_CN_best_methods_containing([9])\n",
    "\n",
    "# # Return a list of files that exactly contains the exact values passed\n",
    "# ensemble.filter_by_CN_dist_method_exact_matching([16, 12, 5])\n",
    "# ensemble.filter_by_CN_best_methods_exact_matching([16, 10, 12])"
   ]
  },
  {
   "cell_type": "markdown",
   "metadata": {},
   "source": [
    "## Filter by range"
   ]
  },
  {
   "cell_type": "code",
   "execution_count": 20,
   "metadata": {},
   "outputs": [
    {
     "data": {
      "text/plain": [
       "set()"
      ]
     },
     "execution_count": 20,
     "metadata": {},
     "output_type": "execute_result"
    }
   ],
   "source": [
    "# Return a set of .cif file paths with min distance between 2.5 Å and 4.0 Å\n",
    "ensemble.filter_by_min_distance(2.5, 4.0)\n",
    "\n",
    "# Return a set of .cif file paths with supercell atom count above 300 and below 500.\n",
    "ensemble.filter_by_supercell_count(300, 500)"
   ]
  },
  {
   "cell_type": "markdown",
   "metadata": {},
   "source": [
    "## Generate histograms\n",
    "\n",
    "Histograms containing the number of files per property are saved and displayed optionally\n"
   ]
  },
  {
   "cell_type": "code",
   "execution_count": 4,
   "metadata": {},
   "outputs": [
    {
     "name": "stdout",
     "output_type": "stream",
     "text": [
      "\n",
      "CIF Preprocessing in Example.ErCoIn_big_folder_path begun...\n",
      "\n",
      "Preprocessing /Users/imac/Downloads/cifkit/src/cifkit/data/ErCoIn_big/1818414.cif (1/16)\n",
      "Preprocessing /Users/imac/Downloads/cifkit/src/cifkit/data/ErCoIn_big/1840445.cif (2/16)\n",
      "Preprocessing /Users/imac/Downloads/cifkit/src/cifkit/data/ErCoIn_big/1233938.cif (3/16)\n",
      "Preprocessing /Users/imac/Downloads/cifkit/src/cifkit/data/ErCoIn_big/1140826.cif (4/16)\n",
      "Preprocessing /Users/imac/Downloads/cifkit/src/cifkit/data/ErCoIn_big/1634753.cif (5/16)\n",
      "Preprocessing /Users/imac/Downloads/cifkit/src/cifkit/data/ErCoIn_big/1803318.cif (6/16)\n",
      "Preprocessing /Users/imac/Downloads/cifkit/src/cifkit/data/ErCoIn_big/1956508.cif (7/16)\n",
      "Preprocessing /Users/imac/Downloads/cifkit/src/cifkit/data/ErCoIn_big/1234749.cif (8/16)\n",
      "Preprocessing /Users/imac/Downloads/cifkit/src/cifkit/data/ErCoIn_big/1803512.cif (9/16)\n",
      "Preprocessing /Users/imac/Downloads/cifkit/src/cifkit/data/ErCoIn_big/1234747.cif (10/16)\n",
      "Preprocessing /Users/imac/Downloads/cifkit/src/cifkit/data/ErCoIn_big/1229705.cif (11/16)\n",
      "Preprocessing /Users/imac/Downloads/cifkit/src/cifkit/data/ErCoIn_big/1814810.cif (12/16)\n",
      "Preprocessing /Users/imac/Downloads/cifkit/src/cifkit/data/ErCoIn_big/1925389.cif (13/16)\n",
      "Preprocessing /Users/imac/Downloads/cifkit/src/cifkit/data/ErCoIn_big/1710931.cif (14/16)\n",
      "Preprocessing /Users/imac/Downloads/cifkit/src/cifkit/data/ErCoIn_big/1920543.cif (15/16)\n",
      "Preprocessing /Users/imac/Downloads/cifkit/src/cifkit/data/ErCoIn_big/1000761.cif (16/16)\n",
      "\n",
      "SUMMARY\n",
      "# of files moved to 'error_operations' folder: 0\n",
      "# of files moved to 'error_duplicate_labels' folder: 0\n",
      "# of files moved to 'error_wrong_loop_value' folder: 0\n",
      "# of files moved to 'error_coords' folder: 0\n",
      "# of files moved to 'error_invalid_label' folder: 0\n",
      "# of files moved to 'error_others' folder: 0\n",
      "\n",
      "Error computing polyhedron metrics: index 12 is out of bounds for axis 0 with size 12\n"
     ]
    },
    {
     "ename": "TypeError",
     "evalue": "'NoneType' object is not subscriptable",
     "output_type": "error",
     "traceback": [
      "\u001b[0;31m---------------------------------------------------------------------------\u001b[0m",
      "\u001b[0;31mTypeError\u001b[0m                                 Traceback (most recent call last)",
      "Cell \u001b[0;32mIn[4], line 4\u001b[0m\n\u001b[1;32m      2\u001b[0m \u001b[38;5;66;03m# Generate histograms\u001b[39;00m\n\u001b[1;32m      3\u001b[0m ensemble \u001b[38;5;241m=\u001b[39m CifEnsemble(Example\u001b[38;5;241m.\u001b[39mErCoIn_big_folder_path)\n\u001b[0;32m----> 4\u001b[0m \u001b[43mensemble\u001b[49m\u001b[38;5;241;43m.\u001b[39;49m\u001b[43mgenerate_stat_histograms\u001b[49m\u001b[43m(\u001b[49m\u001b[43mdisplay\u001b[49m\u001b[38;5;241;43m=\u001b[39;49m\u001b[38;5;28;43;01mTrue\u001b[39;49;00m\u001b[43m)\u001b[49m\n",
      "File \u001b[0;32m~/Downloads/cifkit/src/cifkit/models/cif_ensemble.py:339\u001b[0m, in \u001b[0;36mCifEnsemble.generate_stat_histograms\u001b[0;34m(self, display, output_dir)\u001b[0m\n\u001b[1;32m    338\u001b[0m \u001b[38;5;28;01mdef\u001b[39;00m \u001b[38;5;21mgenerate_stat_histograms\u001b[39m(\u001b[38;5;28mself\u001b[39m, display\u001b[38;5;241m=\u001b[39m\u001b[38;5;28;01mFalse\u001b[39;00m, output_dir\u001b[38;5;241m=\u001b[39m\u001b[38;5;28;01mNone\u001b[39;00m):\n\u001b[0;32m--> 339\u001b[0m     \u001b[43mplot_histograms\u001b[49m\u001b[43m(\u001b[49m\u001b[38;5;28;43mself\u001b[39;49m\u001b[43m,\u001b[49m\u001b[43m \u001b[49m\u001b[43mdisplay\u001b[49m\u001b[43m,\u001b[49m\u001b[43m \u001b[49m\u001b[43moutput_dir\u001b[49m\u001b[43m)\u001b[49m\n",
      "File \u001b[0;32m~/Downloads/cifkit/src/cifkit/figures/histogram.py:62\u001b[0m, in \u001b[0;36mplot_histograms\u001b[0;34m(cif_ensemble, display, output_dir)\u001b[0m\n\u001b[1;32m     11\u001b[0m \u001b[38;5;28;01mdef\u001b[39;00m \u001b[38;5;21mplot_histograms\u001b[39m(cif_ensemble, display, output_dir\u001b[38;5;241m=\u001b[39m\u001b[38;5;28;01mNone\u001b[39;00m) \u001b[38;5;241m-\u001b[39m\u001b[38;5;241m>\u001b[39m \u001b[38;5;28;01mNone\u001b[39;00m:\n\u001b[1;32m     12\u001b[0m     histograms \u001b[38;5;241m=\u001b[39m [\n\u001b[1;32m     13\u001b[0m         {\n\u001b[1;32m     14\u001b[0m             \u001b[38;5;124m\"\u001b[39m\u001b[38;5;124mdata\u001b[39m\u001b[38;5;124m\"\u001b[39m: cif_ensemble\u001b[38;5;241m.\u001b[39mstructure_stats,\n\u001b[1;32m     15\u001b[0m             \u001b[38;5;124m\"\u001b[39m\u001b[38;5;124msettings\u001b[39m\u001b[38;5;124m\"\u001b[39m: {\n\u001b[1;32m     16\u001b[0m                 \u001b[38;5;124m\"\u001b[39m\u001b[38;5;124mfile_name\u001b[39m\u001b[38;5;124m\"\u001b[39m: \u001b[38;5;124m\"\u001b[39m\u001b[38;5;124mstructures.png\u001b[39m\u001b[38;5;124m\"\u001b[39m,\n\u001b[1;32m     17\u001b[0m                 \u001b[38;5;124m\"\u001b[39m\u001b[38;5;124mtitle\u001b[39m\u001b[38;5;124m\"\u001b[39m: \u001b[38;5;124m\"\u001b[39m\u001b[38;5;124mStructures Distribution\u001b[39m\u001b[38;5;124m\"\u001b[39m,\n\u001b[1;32m     18\u001b[0m                 \u001b[38;5;124m\"\u001b[39m\u001b[38;5;124mxlabel\u001b[39m\u001b[38;5;124m\"\u001b[39m: \u001b[38;5;124m\"\u001b[39m\u001b[38;5;124mStructure\u001b[39m\u001b[38;5;124m\"\u001b[39m,\n\u001b[1;32m     19\u001b[0m             },\n\u001b[1;32m     20\u001b[0m         },\n\u001b[1;32m     21\u001b[0m         {\n\u001b[1;32m     22\u001b[0m             \u001b[38;5;124m\"\u001b[39m\u001b[38;5;124mdata\u001b[39m\u001b[38;5;124m\"\u001b[39m: cif_ensemble\u001b[38;5;241m.\u001b[39mformula_stats,\n\u001b[1;32m     23\u001b[0m             \u001b[38;5;124m\"\u001b[39m\u001b[38;5;124msettings\u001b[39m\u001b[38;5;124m\"\u001b[39m: {\n\u001b[1;32m     24\u001b[0m                 \u001b[38;5;124m\"\u001b[39m\u001b[38;5;124mfile_name\u001b[39m\u001b[38;5;124m\"\u001b[39m: \u001b[38;5;124m\"\u001b[39m\u001b[38;5;124mformula.png\u001b[39m\u001b[38;5;124m\"\u001b[39m,\n\u001b[1;32m     25\u001b[0m                 \u001b[38;5;124m\"\u001b[39m\u001b[38;5;124mtitle\u001b[39m\u001b[38;5;124m\"\u001b[39m: \u001b[38;5;124m\"\u001b[39m\u001b[38;5;124mFormulas Distribution\u001b[39m\u001b[38;5;124m\"\u001b[39m,\n\u001b[1;32m     26\u001b[0m                 \u001b[38;5;124m\"\u001b[39m\u001b[38;5;124mxlabel\u001b[39m\u001b[38;5;124m\"\u001b[39m: \u001b[38;5;124m\"\u001b[39m\u001b[38;5;124mFormula\u001b[39m\u001b[38;5;124m\"\u001b[39m,\n\u001b[1;32m     27\u001b[0m             },\n\u001b[1;32m     28\u001b[0m         },\n\u001b[1;32m     29\u001b[0m         {\n\u001b[1;32m     30\u001b[0m             \u001b[38;5;124m\"\u001b[39m\u001b[38;5;124mdata\u001b[39m\u001b[38;5;124m\"\u001b[39m: cif_ensemble\u001b[38;5;241m.\u001b[39mtag_stats,\n\u001b[1;32m     31\u001b[0m             \u001b[38;5;124m\"\u001b[39m\u001b[38;5;124msettings\u001b[39m\u001b[38;5;124m\"\u001b[39m: {\n\u001b[1;32m     32\u001b[0m                 \u001b[38;5;124m\"\u001b[39m\u001b[38;5;124mfile_name\u001b[39m\u001b[38;5;124m\"\u001b[39m: \u001b[38;5;124m\"\u001b[39m\u001b[38;5;124mtag.png\u001b[39m\u001b[38;5;124m\"\u001b[39m,\n\u001b[1;32m     33\u001b[0m                 \u001b[38;5;124m\"\u001b[39m\u001b[38;5;124mtitle\u001b[39m\u001b[38;5;124m\"\u001b[39m: \u001b[38;5;124m\"\u001b[39m\u001b[38;5;124mTags Distribution\u001b[39m\u001b[38;5;124m\"\u001b[39m,\n\u001b[1;32m     34\u001b[0m                 \u001b[38;5;124m\"\u001b[39m\u001b[38;5;124mxlabel\u001b[39m\u001b[38;5;124m\"\u001b[39m: \u001b[38;5;124m\"\u001b[39m\u001b[38;5;124mTag\u001b[39m\u001b[38;5;124m\"\u001b[39m,\n\u001b[1;32m     35\u001b[0m             },\n\u001b[1;32m     36\u001b[0m         },\n\u001b[1;32m     37\u001b[0m         {\n\u001b[1;32m     38\u001b[0m             \u001b[38;5;124m\"\u001b[39m\u001b[38;5;124mdata\u001b[39m\u001b[38;5;124m\"\u001b[39m: cif_ensemble\u001b[38;5;241m.\u001b[39mspace_group_number_stats,\n\u001b[1;32m     39\u001b[0m             \u001b[38;5;124m\"\u001b[39m\u001b[38;5;124msettings\u001b[39m\u001b[38;5;124m\"\u001b[39m: {\n\u001b[1;32m     40\u001b[0m                 \u001b[38;5;124m\"\u001b[39m\u001b[38;5;124mfile_name\u001b[39m\u001b[38;5;124m\"\u001b[39m: \u001b[38;5;124m\"\u001b[39m\u001b[38;5;124mspace_group_number.png\u001b[39m\u001b[38;5;124m\"\u001b[39m,\n\u001b[1;32m     41\u001b[0m                 \u001b[38;5;124m\"\u001b[39m\u001b[38;5;124mtitle\u001b[39m\u001b[38;5;124m\"\u001b[39m: \u001b[38;5;124m\"\u001b[39m\u001b[38;5;124mSpace Group Numbers Distribution\u001b[39m\u001b[38;5;124m\"\u001b[39m,\n\u001b[1;32m     42\u001b[0m                 \u001b[38;5;124m\"\u001b[39m\u001b[38;5;124mxlabel\u001b[39m\u001b[38;5;124m\"\u001b[39m: \u001b[38;5;124m\"\u001b[39m\u001b[38;5;124mSpace Group Number\u001b[39m\u001b[38;5;124m\"\u001b[39m,\n\u001b[1;32m     43\u001b[0m             },\n\u001b[1;32m     44\u001b[0m         },\n\u001b[1;32m     45\u001b[0m         {\n\u001b[1;32m     46\u001b[0m             \u001b[38;5;124m\"\u001b[39m\u001b[38;5;124mdata\u001b[39m\u001b[38;5;124m\"\u001b[39m: cif_ensemble\u001b[38;5;241m.\u001b[39mspace_group_name_stats,\n\u001b[1;32m     47\u001b[0m             \u001b[38;5;124m\"\u001b[39m\u001b[38;5;124msettings\u001b[39m\u001b[38;5;124m\"\u001b[39m: {\n\u001b[1;32m     48\u001b[0m                 \u001b[38;5;124m\"\u001b[39m\u001b[38;5;124mfile_name\u001b[39m\u001b[38;5;124m\"\u001b[39m: \u001b[38;5;124m\"\u001b[39m\u001b[38;5;124mspace_group_name.png\u001b[39m\u001b[38;5;124m\"\u001b[39m,\n\u001b[1;32m     49\u001b[0m                 \u001b[38;5;124m\"\u001b[39m\u001b[38;5;124mtitle\u001b[39m\u001b[38;5;124m\"\u001b[39m: \u001b[38;5;124m\"\u001b[39m\u001b[38;5;124mSpace Group Names Distribution\u001b[39m\u001b[38;5;124m\"\u001b[39m,\n\u001b[1;32m     50\u001b[0m                 \u001b[38;5;124m\"\u001b[39m\u001b[38;5;124mxlabel\u001b[39m\u001b[38;5;124m\"\u001b[39m: \u001b[38;5;124m\"\u001b[39m\u001b[38;5;124mSpace Group Name\u001b[39m\u001b[38;5;124m\"\u001b[39m,\n\u001b[1;32m     51\u001b[0m             },\n\u001b[1;32m     52\u001b[0m         },\n\u001b[1;32m     53\u001b[0m         {\n\u001b[1;32m     54\u001b[0m             \u001b[38;5;124m\"\u001b[39m\u001b[38;5;124mdata\u001b[39m\u001b[38;5;124m\"\u001b[39m: cif_ensemble\u001b[38;5;241m.\u001b[39msupercell_size_stats,\n\u001b[1;32m     55\u001b[0m             \u001b[38;5;124m\"\u001b[39m\u001b[38;5;124msettings\u001b[39m\u001b[38;5;124m\"\u001b[39m: {\n\u001b[1;32m     56\u001b[0m                 \u001b[38;5;124m\"\u001b[39m\u001b[38;5;124mfile_name\u001b[39m\u001b[38;5;124m\"\u001b[39m: \u001b[38;5;124m\"\u001b[39m\u001b[38;5;124msupercell_size.png\u001b[39m\u001b[38;5;124m\"\u001b[39m,\n\u001b[1;32m     57\u001b[0m                 \u001b[38;5;124m\"\u001b[39m\u001b[38;5;124mtitle\u001b[39m\u001b[38;5;124m\"\u001b[39m: \u001b[38;5;124m\"\u001b[39m\u001b[38;5;124mSupercell Sizes Distribution\u001b[39m\u001b[38;5;124m\"\u001b[39m,\n\u001b[1;32m     58\u001b[0m                 \u001b[38;5;124m\"\u001b[39m\u001b[38;5;124mxlabel\u001b[39m\u001b[38;5;124m\"\u001b[39m: \u001b[38;5;124m\"\u001b[39m\u001b[38;5;124mSupercell Size\u001b[39m\u001b[38;5;124m\"\u001b[39m,\n\u001b[1;32m     59\u001b[0m             },\n\u001b[1;32m     60\u001b[0m         },\n\u001b[1;32m     61\u001b[0m         {\n\u001b[0;32m---> 62\u001b[0m             \u001b[38;5;124m\"\u001b[39m\u001b[38;5;124mdata\u001b[39m\u001b[38;5;124m\"\u001b[39m: \u001b[43mcif_ensemble\u001b[49m\u001b[38;5;241;43m.\u001b[39;49m\u001b[43munique_CN_values_by_min_dist_method_stat\u001b[49m,\n\u001b[1;32m     63\u001b[0m             \u001b[38;5;124m\"\u001b[39m\u001b[38;5;124msettings\u001b[39m\u001b[38;5;124m\"\u001b[39m: {\n\u001b[1;32m     64\u001b[0m                 \u001b[38;5;124m\"\u001b[39m\u001b[38;5;124mfile_name\u001b[39m\u001b[38;5;124m\"\u001b[39m: \u001b[38;5;124m\"\u001b[39m\u001b[38;5;124mCN_by_min_dist_method.png\u001b[39m\u001b[38;5;124m\"\u001b[39m,\n\u001b[1;32m     65\u001b[0m                 \u001b[38;5;124m\"\u001b[39m\u001b[38;5;124mtitle\u001b[39m\u001b[38;5;124m\"\u001b[39m: \u001b[38;5;124m\"\u001b[39m\u001b[38;5;124mCoordination Numbers Distribution by Min Dist Method\u001b[39m\u001b[38;5;124m\"\u001b[39m,\n\u001b[1;32m     66\u001b[0m                 \u001b[38;5;124m\"\u001b[39m\u001b[38;5;124mxlabel\u001b[39m\u001b[38;5;124m\"\u001b[39m: \u001b[38;5;124m\"\u001b[39m\u001b[38;5;124mCoordination Number\u001b[39m\u001b[38;5;124m\"\u001b[39m,\n\u001b[1;32m     67\u001b[0m             },\n\u001b[1;32m     68\u001b[0m         },\n\u001b[1;32m     69\u001b[0m         {\n\u001b[1;32m     70\u001b[0m             \u001b[38;5;124m\"\u001b[39m\u001b[38;5;124mdata\u001b[39m\u001b[38;5;124m\"\u001b[39m: cif_ensemble\u001b[38;5;241m.\u001b[39munique_CN_values_by_method_methods_stat,\n\u001b[1;32m     71\u001b[0m             \u001b[38;5;124m\"\u001b[39m\u001b[38;5;124msettings\u001b[39m\u001b[38;5;124m\"\u001b[39m: {\n\u001b[1;32m     72\u001b[0m                 \u001b[38;5;124m\"\u001b[39m\u001b[38;5;124mfile_name\u001b[39m\u001b[38;5;124m\"\u001b[39m: \u001b[38;5;124m\"\u001b[39m\u001b[38;5;124mCN_by_best_methods.png\u001b[39m\u001b[38;5;124m\"\u001b[39m,\n\u001b[1;32m     73\u001b[0m                 \u001b[38;5;124m\"\u001b[39m\u001b[38;5;124mtitle\u001b[39m\u001b[38;5;124m\"\u001b[39m: \u001b[38;5;124m\"\u001b[39m\u001b[38;5;124mCoordination Numbers Distribution by Best Methods\u001b[39m\u001b[38;5;124m\"\u001b[39m,\n\u001b[1;32m     74\u001b[0m                 \u001b[38;5;124m\"\u001b[39m\u001b[38;5;124mxlabel\u001b[39m\u001b[38;5;124m\"\u001b[39m: \u001b[38;5;124m\"\u001b[39m\u001b[38;5;124mCoordination Number\u001b[39m\u001b[38;5;124m\"\u001b[39m,\n\u001b[1;32m     75\u001b[0m             },\n\u001b[1;32m     76\u001b[0m         },\n\u001b[1;32m     77\u001b[0m         {\n\u001b[1;32m     78\u001b[0m             \u001b[38;5;124m\"\u001b[39m\u001b[38;5;124mdata\u001b[39m\u001b[38;5;124m\"\u001b[39m: cif_ensemble\u001b[38;5;241m.\u001b[39mmin_distance_stats,\n\u001b[1;32m     79\u001b[0m             \u001b[38;5;124m\"\u001b[39m\u001b[38;5;124msettings\u001b[39m\u001b[38;5;124m\"\u001b[39m: {\n\u001b[1;32m     80\u001b[0m                 \u001b[38;5;124m\"\u001b[39m\u001b[38;5;124mfile_name\u001b[39m\u001b[38;5;124m\"\u001b[39m: \u001b[38;5;124m\"\u001b[39m\u001b[38;5;124mmin_distance.png\u001b[39m\u001b[38;5;124m\"\u001b[39m,\n\u001b[1;32m     81\u001b[0m                 \u001b[38;5;124m\"\u001b[39m\u001b[38;5;124mtitle\u001b[39m\u001b[38;5;124m\"\u001b[39m: \u001b[38;5;124m\"\u001b[39m\u001b[38;5;124mMinimum Distances Distribution\u001b[39m\u001b[38;5;124m\"\u001b[39m,\n\u001b[1;32m     82\u001b[0m                 \u001b[38;5;124m\"\u001b[39m\u001b[38;5;124mxlabel\u001b[39m\u001b[38;5;124m\"\u001b[39m: \u001b[38;5;124m\"\u001b[39m\u001b[38;5;124mMinimum Distance\u001b[39m\u001b[38;5;124m\"\u001b[39m,\n\u001b[1;32m     83\u001b[0m                 \u001b[38;5;124m\"\u001b[39m\u001b[38;5;124mkey_data_type\u001b[39m\u001b[38;5;124m\"\u001b[39m: \u001b[38;5;124m\"\u001b[39m\u001b[38;5;124mfloat\u001b[39m\u001b[38;5;124m\"\u001b[39m,\n\u001b[1;32m     84\u001b[0m             },\n\u001b[1;32m     85\u001b[0m         },\n\u001b[1;32m     86\u001b[0m         {\n\u001b[1;32m     87\u001b[0m             \u001b[38;5;124m\"\u001b[39m\u001b[38;5;124mdata\u001b[39m\u001b[38;5;124m\"\u001b[39m: cif_ensemble\u001b[38;5;241m.\u001b[39msite_mixing_type_stats,\n\u001b[1;32m     88\u001b[0m             \u001b[38;5;124m\"\u001b[39m\u001b[38;5;124msettings\u001b[39m\u001b[38;5;124m\"\u001b[39m: {\n\u001b[1;32m     89\u001b[0m                 \u001b[38;5;124m\"\u001b[39m\u001b[38;5;124mfile_name\u001b[39m\u001b[38;5;124m\"\u001b[39m: \u001b[38;5;124m\"\u001b[39m\u001b[38;5;124msite_mixing_type.png\u001b[39m\u001b[38;5;124m\"\u001b[39m,\n\u001b[1;32m     90\u001b[0m                 \u001b[38;5;124m\"\u001b[39m\u001b[38;5;124mtitle\u001b[39m\u001b[38;5;124m\"\u001b[39m: \u001b[38;5;124m\"\u001b[39m\u001b[38;5;124mSite Mixing Distribution\u001b[39m\u001b[38;5;124m\"\u001b[39m,\n\u001b[1;32m     91\u001b[0m                 \u001b[38;5;124m\"\u001b[39m\u001b[38;5;124mxlabel\u001b[39m\u001b[38;5;124m\"\u001b[39m: \u001b[38;5;124m\"\u001b[39m\u001b[38;5;124mSite Mixing Type\u001b[39m\u001b[38;5;124m\"\u001b[39m,\n\u001b[1;32m     92\u001b[0m             },\n\u001b[1;32m     93\u001b[0m         },\n\u001b[1;32m     94\u001b[0m         {\n\u001b[1;32m     95\u001b[0m             \u001b[38;5;124m\"\u001b[39m\u001b[38;5;124mdata\u001b[39m\u001b[38;5;124m\"\u001b[39m: cif_ensemble\u001b[38;5;241m.\u001b[39munique_elements_stats,\n\u001b[1;32m     96\u001b[0m             \u001b[38;5;124m\"\u001b[39m\u001b[38;5;124msettings\u001b[39m\u001b[38;5;124m\"\u001b[39m: {\n\u001b[1;32m     97\u001b[0m                 \u001b[38;5;124m\"\u001b[39m\u001b[38;5;124mfile_name\u001b[39m\u001b[38;5;124m\"\u001b[39m: \u001b[38;5;124m\"\u001b[39m\u001b[38;5;124melements.png\u001b[39m\u001b[38;5;124m\"\u001b[39m,\n\u001b[1;32m     98\u001b[0m                 \u001b[38;5;124m\"\u001b[39m\u001b[38;5;124mtitle\u001b[39m\u001b[38;5;124m\"\u001b[39m: \u001b[38;5;124m\"\u001b[39m\u001b[38;5;124mUnique Elements Distribution\u001b[39m\u001b[38;5;124m\"\u001b[39m,\n\u001b[1;32m     99\u001b[0m                 \u001b[38;5;124m\"\u001b[39m\u001b[38;5;124mxlabel\u001b[39m\u001b[38;5;124m\"\u001b[39m: \u001b[38;5;124m\"\u001b[39m\u001b[38;5;124mElement\u001b[39m\u001b[38;5;124m\"\u001b[39m,\n\u001b[1;32m    100\u001b[0m             },\n\u001b[1;32m    101\u001b[0m         },\n\u001b[1;32m    102\u001b[0m         {\n\u001b[1;32m    103\u001b[0m             \u001b[38;5;124m\"\u001b[39m\u001b[38;5;124mdata\u001b[39m\u001b[38;5;124m\"\u001b[39m: cif_ensemble\u001b[38;5;241m.\u001b[39mcomposition_type_stats,\n\u001b[1;32m    104\u001b[0m             \u001b[38;5;124m\"\u001b[39m\u001b[38;5;124msettings\u001b[39m\u001b[38;5;124m\"\u001b[39m: {\n\u001b[1;32m    105\u001b[0m                 \u001b[38;5;124m\"\u001b[39m\u001b[38;5;124mfile_name\u001b[39m\u001b[38;5;124m\"\u001b[39m: \u001b[38;5;124m\"\u001b[39m\u001b[38;5;124mcomposition_type.png\u001b[39m\u001b[38;5;124m\"\u001b[39m,\n\u001b[1;32m    106\u001b[0m                 \u001b[38;5;124m\"\u001b[39m\u001b[38;5;124mtitle\u001b[39m\u001b[38;5;124m\"\u001b[39m: \u001b[38;5;124m\"\u001b[39m\u001b[38;5;124mUnique Composition Types Distribution\u001b[39m\u001b[38;5;124m\"\u001b[39m,\n\u001b[1;32m    107\u001b[0m                 \u001b[38;5;124m\"\u001b[39m\u001b[38;5;124mxlabel\u001b[39m\u001b[38;5;124m\"\u001b[39m: \u001b[38;5;124m\"\u001b[39m\u001b[38;5;124mCompositions (1: unary, 2: binary, 3: ternary, etc.)\u001b[39m\u001b[38;5;124m\"\u001b[39m,\n\u001b[1;32m    108\u001b[0m                 \u001b[38;5;124m\"\u001b[39m\u001b[38;5;124mkey_data_type\u001b[39m\u001b[38;5;124m\"\u001b[39m: \u001b[38;5;124m\"\u001b[39m\u001b[38;5;124mstring\u001b[39m\u001b[38;5;124m\"\u001b[39m,\n\u001b[1;32m    109\u001b[0m             },\n\u001b[1;32m    110\u001b[0m         },\n\u001b[1;32m    111\u001b[0m     ]\n\u001b[1;32m    113\u001b[0m     \u001b[38;5;66;03m# Make a deafult folder if the output folder is not provided=\u001b[39;00m\n\u001b[1;32m    114\u001b[0m     \u001b[38;5;28;01mif\u001b[39;00m \u001b[38;5;129;01mnot\u001b[39;00m output_dir:\n",
      "File \u001b[0;32m~/Downloads/cifkit/src/cifkit/models/cif_ensemble.py:176\u001b[0m, in \u001b[0;36mCifEnsemble.unique_CN_values_by_min_dist_method_stat\u001b[0;34m(self)\u001b[0m\n\u001b[1;32m    172\u001b[0m \u001b[38;5;129m@property\u001b[39m\n\u001b[1;32m    173\u001b[0m \u001b[38;5;28;01mdef\u001b[39;00m \u001b[38;5;21munique_CN_values_by_min_dist_method_stat\u001b[39m(\n\u001b[1;32m    174\u001b[0m     \u001b[38;5;28mself\u001b[39m,\n\u001b[1;32m    175\u001b[0m ) \u001b[38;5;241m-\u001b[39m\u001b[38;5;241m>\u001b[39m \u001b[38;5;28mdict\u001b[39m[\u001b[38;5;28mfloat\u001b[39m, \u001b[38;5;28mint\u001b[39m]:\n\u001b[0;32m--> 176\u001b[0m     \u001b[38;5;28;01mreturn\u001b[39;00m \u001b[38;5;28;43mself\u001b[39;49m\u001b[38;5;241;43m.\u001b[39;49m\u001b[43m_attribute_stats\u001b[49m\u001b[43m(\u001b[49m\u001b[38;5;124;43m\"\u001b[39;49m\u001b[38;5;124;43mCN_unique_values_by_min_dist_method\u001b[39;49m\u001b[38;5;124;43m\"\u001b[39;49m\u001b[43m)\u001b[49m\n",
      "File \u001b[0;32m~/Downloads/cifkit/src/cifkit/models/cif_ensemble.py:125\u001b[0m, in \u001b[0;36mCifEnsemble._attribute_stats\u001b[0;34m(self, attribute_name, transform)\u001b[0m\n\u001b[1;32m    113\u001b[0m \u001b[38;5;28;01mdef\u001b[39;00m \u001b[38;5;21m_attribute_stats\u001b[39m(\u001b[38;5;28mself\u001b[39m, attribute_name, transform\u001b[38;5;241m=\u001b[39m\u001b[38;5;28;01mNone\u001b[39;00m):\n\u001b[1;32m    114\u001b[0m \u001b[38;5;250m    \u001b[39m\u001b[38;5;124;03m\"\"\"\u001b[39;00m\n\u001b[1;32m    115\u001b[0m \u001b[38;5;124;03m    Helper method to compute the count of each unique value of a given\u001b[39;00m\n\u001b[1;32m    116\u001b[0m \u001b[38;5;124;03m    attribute across all Cif objects.\u001b[39;00m\n\u001b[1;32m    117\u001b[0m \u001b[38;5;124;03m    \"\"\"\u001b[39;00m\n\u001b[1;32m    118\u001b[0m     values \u001b[38;5;241m=\u001b[39m [\n\u001b[1;32m    119\u001b[0m         (\n\u001b[1;32m    120\u001b[0m             transform(\u001b[38;5;28mgetattr\u001b[39m(cif, attribute_name))\n\u001b[1;32m    121\u001b[0m             \u001b[38;5;28;01mif\u001b[39;00m transform\n\u001b[1;32m    122\u001b[0m             \u001b[38;5;28;01melse\u001b[39;00m \u001b[38;5;28mgetattr\u001b[39m(cif, attribute_name)\n\u001b[1;32m    123\u001b[0m         )\n\u001b[1;32m    124\u001b[0m         \u001b[38;5;28;01mfor\u001b[39;00m cif \u001b[38;5;129;01min\u001b[39;00m \u001b[38;5;28mself\u001b[39m\u001b[38;5;241m.\u001b[39mcifs\n\u001b[0;32m--> 125\u001b[0m         \u001b[38;5;28;01mif\u001b[39;00m \u001b[38;5;28;43mhasattr\u001b[39;49m\u001b[43m(\u001b[49m\u001b[43mcif\u001b[49m\u001b[43m,\u001b[49m\u001b[43m \u001b[49m\u001b[43mattribute_name\u001b[49m\u001b[43m)\u001b[49m\n\u001b[1;32m    126\u001b[0m     ]\n\u001b[1;32m    127\u001b[0m     \u001b[38;5;66;03m# Flatten the list if the attribute is a set of elements\u001b[39;00m\n\u001b[1;32m    128\u001b[0m     \u001b[38;5;28;01mif\u001b[39;00m \u001b[38;5;28misinstance\u001b[39m(values[\u001b[38;5;241m0\u001b[39m], \u001b[38;5;28mset\u001b[39m):\n",
      "File \u001b[0;32m~/Downloads/cifkit/src/cifkit/models/cif.py:97\u001b[0m, in \u001b[0;36mensure_connections.<locals>.wrapper\u001b[0;34m(self, *args, **kwargs)\u001b[0m\n\u001b[1;32m     95\u001b[0m \u001b[38;5;28;01mdef\u001b[39;00m \u001b[38;5;21mwrapper\u001b[39m(\u001b[38;5;28mself\u001b[39m, \u001b[38;5;241m*\u001b[39margs, \u001b[38;5;241m*\u001b[39m\u001b[38;5;241m*\u001b[39mkwargs):\n\u001b[1;32m     96\u001b[0m     \u001b[38;5;28;01mif\u001b[39;00m \u001b[38;5;28mself\u001b[39m\u001b[38;5;241m.\u001b[39mconnections \u001b[38;5;129;01mis\u001b[39;00m \u001b[38;5;28;01mNone\u001b[39;00m:\n\u001b[0;32m---> 97\u001b[0m         \u001b[38;5;28;43mself\u001b[39;49m\u001b[38;5;241;43m.\u001b[39;49m\u001b[43mcompute_connections\u001b[49m\u001b[43m(\u001b[49m\u001b[43m)\u001b[49m\n\u001b[1;32m     98\u001b[0m     \u001b[38;5;28;01mreturn\u001b[39;00m func(\u001b[38;5;28mself\u001b[39m, \u001b[38;5;241m*\u001b[39margs, \u001b[38;5;241m*\u001b[39m\u001b[38;5;241m*\u001b[39mkwargs)\n",
      "File \u001b[0;32m~/Downloads/cifkit/src/cifkit/models/cif.py:285\u001b[0m, in \u001b[0;36mCif.compute_connections\u001b[0;34m(self, cutoff_radius)\u001b[0m\n\u001b[1;32m    277\u001b[0m \u001b[38;5;28mself\u001b[39m\u001b[38;5;241m.\u001b[39m_CN_max_gap_per_site \u001b[38;5;241m=\u001b[39m compute_CN_max_gap_per_site(\n\u001b[1;32m    278\u001b[0m     \u001b[38;5;28mself\u001b[39m\u001b[38;5;241m.\u001b[39mradius_sum,\n\u001b[1;32m    279\u001b[0m     \u001b[38;5;28mself\u001b[39m\u001b[38;5;241m.\u001b[39mconnections,\n\u001b[1;32m    280\u001b[0m     \u001b[38;5;28mself\u001b[39m\u001b[38;5;241m.\u001b[39mis_radius_data_available,\n\u001b[1;32m    281\u001b[0m     \u001b[38;5;28mself\u001b[39m\u001b[38;5;241m.\u001b[39msite_mixing_type,\n\u001b[1;32m    282\u001b[0m )\n\u001b[1;32m    284\u001b[0m \u001b[38;5;66;03m# Find the best methods\u001b[39;00m\n\u001b[0;32m--> 285\u001b[0m \u001b[38;5;28mself\u001b[39m\u001b[38;5;241m.\u001b[39m_CN_best_methods \u001b[38;5;241m=\u001b[39m \u001b[43mfind_best_polyhedron\u001b[49m\u001b[43m(\u001b[49m\n\u001b[1;32m    286\u001b[0m \u001b[43m    \u001b[49m\u001b[38;5;28;43mself\u001b[39;49m\u001b[38;5;241;43m.\u001b[39;49m\u001b[43mCN_max_gap_per_site\u001b[49m\u001b[43m,\u001b[49m\u001b[43m \u001b[49m\u001b[38;5;28;43mself\u001b[39;49m\u001b[38;5;241;43m.\u001b[39;49m\u001b[43mconnections\u001b[49m\n\u001b[1;32m    287\u001b[0m \u001b[43m\u001b[49m\u001b[43m)\u001b[49m\n\u001b[1;32m    289\u001b[0m \u001b[38;5;66;03m# Get CN connections by the best methods\u001b[39;00m\n\u001b[1;32m    290\u001b[0m \u001b[38;5;28mself\u001b[39m\u001b[38;5;241m.\u001b[39m_CN_connections_by_best_methods \u001b[38;5;241m=\u001b[39m (\n\u001b[1;32m    291\u001b[0m     get_CN_connections_by_best_methods(\n\u001b[1;32m    292\u001b[0m         \u001b[38;5;28mself\u001b[39m\u001b[38;5;241m.\u001b[39mCN_best_methods, \u001b[38;5;28mself\u001b[39m\u001b[38;5;241m.\u001b[39mconnections\n\u001b[1;32m    293\u001b[0m     )\n\u001b[1;32m    294\u001b[0m )\n",
      "File \u001b[0;32m~/Downloads/cifkit/src/cifkit/coordination/filter.py:50\u001b[0m, in \u001b[0;36mfind_best_polyhedron\u001b[0;34m(max_gaps_per_label, connections)\u001b[0m\n\u001b[1;32m     45\u001b[0m polyhedron_metrics \u001b[38;5;241m=\u001b[39m compute_polyhedron_metrics(\n\u001b[1;32m     46\u001b[0m     polyhedron_points, hull\n\u001b[1;32m     47\u001b[0m )\n\u001b[1;32m     48\u001b[0m \u001b[38;5;66;03m# Check if the polyhedron has the lowest distance to center.\u001b[39;00m\n\u001b[1;32m     49\u001b[0m \u001b[38;5;28;01mif\u001b[39;00m (\n\u001b[0;32m---> 50\u001b[0m     \u001b[43mpolyhedron_metrics\u001b[49m\u001b[43m[\u001b[49m\u001b[38;5;124;43m\"\u001b[39;49m\u001b[38;5;124;43mdistance_from_avg_point_to_center\u001b[39;49m\u001b[38;5;124;43m\"\u001b[39;49m\u001b[43m]\u001b[49m\n\u001b[1;32m     51\u001b[0m     \u001b[38;5;241m<\u001b[39m min_distance_to_center\n\u001b[1;32m     52\u001b[0m ):\n\u001b[1;32m     53\u001b[0m     min_distance_to_center \u001b[38;5;241m=\u001b[39m polyhedron_metrics[\n\u001b[1;32m     54\u001b[0m         \u001b[38;5;124m\"\u001b[39m\u001b[38;5;124mdistance_from_avg_point_to_center\u001b[39m\u001b[38;5;124m\"\u001b[39m\n\u001b[1;32m     55\u001b[0m     ]\n\u001b[1;32m     56\u001b[0m     best_polyhedron_metrics \u001b[38;5;241m=\u001b[39m polyhedron_metrics\n",
      "\u001b[0;31mTypeError\u001b[0m: 'NoneType' object is not subscriptable"
     ]
    }
   ],
   "source": [
    "from cifkit import CifEnsemble, Example\n",
    "# Generate histograms\n",
    "ensemble = CifEnsemble(Example.ErCoIn_big_folder_path)\n",
    "ensemble.generate_stat_histograms(display=True)"
   ]
  },
  {
   "cell_type": "markdown",
   "metadata": {},
   "source": [
    "## Move and copy files\n",
    "\n",
    "Assume you have a set of file paths filered using the functions described in the previous section. Since we are using Jupyter and with predefined examples, you need to provide `file_paths` and `dest_dir_path` for your system."
   ]
  },
  {
   "cell_type": "code",
   "execution_count": null,
   "metadata": {},
   "outputs": [],
   "source": [
    "file_paths = {\n",
    "    \"tests/data/cif/ensemble_test/300169.cif\",\n",
    "    \"tests/data/cif/ensemble_test/300171.cif\",\n",
    "    \"tests/data/cif/ensemble_test/300170.cif\",\n",
    "}\n",
    "\n",
    "# To move files\n",
    "ensemble.move_cif_files(file_paths, dest_dir_path)\n",
    "\n",
    "# To copy files\n",
    "ensemble.copy_cif_files(file_paths, dest_dir_path)"
   ]
  }
 ],
 "metadata": {
  "kernelspec": {
   "display_name": "cif-test",
   "language": "python",
   "name": "python3"
  },
  "language_info": {
   "codemirror_mode": {
    "name": "ipython",
    "version": 3
   },
   "file_extension": ".py",
   "mimetype": "text/x-python",
   "name": "python",
   "nbconvert_exporter": "python",
   "pygments_lexer": "ipython3",
   "version": "3.1.undefined"
  }
 },
 "nbformat": 4,
 "nbformat_minor": 2
}
