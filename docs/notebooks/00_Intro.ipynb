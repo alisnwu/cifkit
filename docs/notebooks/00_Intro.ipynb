{
 "cells": [
  {
   "cell_type": "markdown",
   "metadata": {},
   "source": [
    "# Installation\n",
    "\n",
    "`cifkit` supports Python versions 3.10, 3.11, and 3.12."
   ]
  },
  {
   "cell_type": "code",
   "execution_count": null,
   "metadata": {},
   "outputs": [],
   "source": [
    "pip install cifkit"
   ]
  },
  {
   "cell_type": "markdown",
   "metadata": {},
   "source": [
    "In Google Codelab, `pyvista` and `gemmi` need to be installed."
   ]
  },
  {
   "cell_type": "code",
   "execution_count": null,
   "metadata": {},
   "outputs": [],
   "source": [
    " pip install cifkit pyvista gemmi"
   ]
  },
  {
   "cell_type": "markdown",
   "metadata": {},
   "source": [
    "### Google Codelab\n",
    "\n",
    "You can also run the examples using Google Codelab by clicking the link below:\n",
    "\n",
    "<a href=\"https://colab.research.google.com/drive/1mZLFWyYblc2gxRqjP7CejZcUNGbQBzwo#scrollTo=DlB6ZTVaOMpq\" target=\"_blank\">\n",
    "    <img src=\"https://img.shields.io/badge/Google%20Colab-Open-blue.svg\" alt=\"Open In Colab\">\n",
    "</a>\n",
    "\n",
    "### Feedback & help\n",
    "\n",
    "If you find `cifkit` beneficial for your research, or if you are considering its usage, please do not hesitate to contact me. You can reach out via the email provided on my GitHub profile."
   ]
  }
 ],
 "metadata": {
  "kernelspec": {
   "display_name": "cifkit-test",
   "language": "python",
   "name": "python3"
  },
  "language_info": {
   "codemirror_mode": {
    "name": "ipython",
    "version": 3
   },
   "file_extension": ".py",
   "mimetype": "text/x-python",
   "name": "python",
   "nbconvert_exporter": "python",
   "pygments_lexer": "ipython3",
   "version": "3.1.-1"
  }
 },
 "nbformat": 4,
 "nbformat_minor": 2
}
