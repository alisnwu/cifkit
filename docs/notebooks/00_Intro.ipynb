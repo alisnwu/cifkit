{
 "cells": [
  {
   "cell_type": "markdown",
   "metadata": {},
   "source": [
    "# Installation\n",
    "\n",
    "`cifkit` supports Python versions 3.10, 3.11, and 3.12."
   ]
  },
  {
   "cell_type": "code",
   "execution_count": 1,
   "metadata": {},
   "outputs": [
    {
     "name": "stdout",
     "output_type": "stream",
     "text": [
      "Requirement already satisfied: cifkit in /Users/imac/miniconda3/envs/cifkit-test/lib/python3.12/site-packages (1.0.2)\n",
      "Note: you may need to restart the kernel to use updated packages.\n"
     ]
    }
   ],
   "source": [
    "pip install cifkit"
   ]
  },
  {
   "cell_type": "markdown",
   "metadata": {},
   "source": [
    "In Google Codelab, `pyvista` and `gemmi` need to be installed."
   ]
  },
  {
   "cell_type": "code",
   "execution_count": 2,
   "metadata": {},
   "outputs": [
    {
     "name": "stdout",
     "output_type": "stream",
     "text": [
      "Requirement already satisfied: cifkit in /Users/imac/miniconda3/envs/cifkit-test/lib/python3.12/site-packages (1.0.2)\n",
      "Requirement already satisfied: pyvista in /Users/imac/miniconda3/envs/cifkit-test/lib/python3.12/site-packages (0.43.10)\n",
      "Requirement already satisfied: gemmi in /Users/imac/miniconda3/envs/cifkit-test/lib/python3.12/site-packages (0.6.6)\n",
      "Requirement already satisfied: matplotlib>=3.0.1 in /Users/imac/miniconda3/envs/cifkit-test/lib/python3.12/site-packages (from pyvista) (3.9.0)\n",
      "Requirement already satisfied: numpy>=1.21.0 in /Users/imac/miniconda3/envs/cifkit-test/lib/python3.12/site-packages (from pyvista) (1.26.4)\n",
      "Requirement already satisfied: pillow in /Users/imac/miniconda3/envs/cifkit-test/lib/python3.12/site-packages (from pyvista) (10.3.0)\n",
      "Requirement already satisfied: pooch in /Users/imac/miniconda3/envs/cifkit-test/lib/python3.12/site-packages (from pyvista) (1.8.2)\n",
      "Requirement already satisfied: scooby>=0.5.1 in /Users/imac/miniconda3/envs/cifkit-test/lib/python3.12/site-packages (from pyvista) (0.10.0)\n",
      "Requirement already satisfied: vtk in /Users/imac/miniconda3/envs/cifkit-test/lib/python3.12/site-packages (from pyvista) (9.3.1)\n",
      "Requirement already satisfied: contourpy>=1.0.1 in /Users/imac/miniconda3/envs/cifkit-test/lib/python3.12/site-packages (from matplotlib>=3.0.1->pyvista) (1.2.1)\n",
      "Requirement already satisfied: cycler>=0.10 in /Users/imac/miniconda3/envs/cifkit-test/lib/python3.12/site-packages (from matplotlib>=3.0.1->pyvista) (0.12.1)\n",
      "Requirement already satisfied: fonttools>=4.22.0 in /Users/imac/miniconda3/envs/cifkit-test/lib/python3.12/site-packages (from matplotlib>=3.0.1->pyvista) (4.53.0)\n",
      "Requirement already satisfied: kiwisolver>=1.3.1 in /Users/imac/miniconda3/envs/cifkit-test/lib/python3.12/site-packages (from matplotlib>=3.0.1->pyvista) (1.4.5)\n",
      "Requirement already satisfied: packaging>=20.0 in /Users/imac/miniconda3/envs/cifkit-test/lib/python3.12/site-packages (from matplotlib>=3.0.1->pyvista) (24.1)\n",
      "Requirement already satisfied: pyparsing>=2.3.1 in /Users/imac/miniconda3/envs/cifkit-test/lib/python3.12/site-packages (from matplotlib>=3.0.1->pyvista) (3.1.2)\n",
      "Requirement already satisfied: python-dateutil>=2.7 in /Users/imac/miniconda3/envs/cifkit-test/lib/python3.12/site-packages (from matplotlib>=3.0.1->pyvista) (2.9.0.post0)\n",
      "Requirement already satisfied: platformdirs>=2.5.0 in /Users/imac/miniconda3/envs/cifkit-test/lib/python3.12/site-packages (from pooch->pyvista) (4.2.2)\n",
      "Requirement already satisfied: requests>=2.19.0 in /Users/imac/miniconda3/envs/cifkit-test/lib/python3.12/site-packages (from pooch->pyvista) (2.32.3)\n",
      "Requirement already satisfied: six>=1.5 in /Users/imac/miniconda3/envs/cifkit-test/lib/python3.12/site-packages (from python-dateutil>=2.7->matplotlib>=3.0.1->pyvista) (1.16.0)\n",
      "Requirement already satisfied: charset-normalizer<4,>=2 in /Users/imac/miniconda3/envs/cifkit-test/lib/python3.12/site-packages (from requests>=2.19.0->pooch->pyvista) (3.3.2)\n",
      "Requirement already satisfied: idna<4,>=2.5 in /Users/imac/miniconda3/envs/cifkit-test/lib/python3.12/site-packages (from requests>=2.19.0->pooch->pyvista) (3.7)\n",
      "Requirement already satisfied: urllib3<3,>=1.21.1 in /Users/imac/miniconda3/envs/cifkit-test/lib/python3.12/site-packages (from requests>=2.19.0->pooch->pyvista) (2.2.2)\n",
      "Requirement already satisfied: certifi>=2017.4.17 in /Users/imac/miniconda3/envs/cifkit-test/lib/python3.12/site-packages (from requests>=2.19.0->pooch->pyvista) (2024.6.2)\n",
      "Note: you may need to restart the kernel to use updated packages.\n"
     ]
    }
   ],
   "source": [
    " pip install cifkit pyvista gemmi"
   ]
  },
  {
   "cell_type": "markdown",
   "metadata": {},
   "source": [
    "### Google Codelab\n",
    "\n",
    "You can also run the examples using Google Codelab by clicking the link below:\n",
    "\n",
    "<a href=\"https://colab.research.google.com/drive/1mZLFWyYblc2gxRqjP7CejZcUNGbQBzwo#scrollTo=DlB6ZTVaOMpq\" target=\"_blank\">\n",
    "    <img src=\"https://img.shields.io/badge/Google%20Colab-Open-blue.svg\" alt=\"Open In Colab\">\n",
    "</a>\n",
    "\n",
    "### Feedback & help\n",
    "\n",
    "If you find `cifkit` beneficial for your research, or if you are considering its usage, please do not hesitate to contact me. You can reach out via the email provided on my GitHub profile."
   ]
  }
 ],
 "metadata": {
  "kernelspec": {
   "display_name": "cifkit-test",
   "language": "python",
   "name": "python3"
  },
  "language_info": {
   "codemirror_mode": {
    "name": "ipython",
    "version": 3
   },
   "file_extension": ".py",
   "mimetype": "text/x-python",
   "name": "python",
   "nbconvert_exporter": "python",
   "pygments_lexer": "ipython3",
   "version": "3.12.3"
  }
 },
 "nbformat": 4,
 "nbformat_minor": 2
}
