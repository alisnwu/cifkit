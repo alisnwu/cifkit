{
 "cells": [
  {
   "cell_type": "markdown",
   "metadata": {},
   "source": [
    "# Introduction\n",
    "\n",
    "`cifkit` supports Python versions 3.10, 3.11, and 3.12."
   ]
  },
  {
   "cell_type": "code",
   "execution_count": 1,
   "metadata": {},
   "outputs": [
    {
     "name": "stdout",
     "output_type": "stream",
     "text": [
      "Requirement already satisfied: cifkit in /Users/imac/miniconda3/envs/cifkit-test/lib/python3.12/site-packages (0.27)\n",
      "Requirement already satisfied: pyvista in /Users/imac/miniconda3/envs/cifkit-test/lib/python3.12/site-packages (0.43.10)\n",
      "Requirement already satisfied: gemmi in /Users/imac/miniconda3/envs/cifkit-test/lib/python3.12/site-packages (0.6.6)\n",
      "Requirement already satisfied: matplotlib>=3.0.1 in /Users/imac/miniconda3/envs/cifkit-test/lib/python3.12/site-packages (from pyvista) (3.9.0)\n",
      "Requirement already satisfied: numpy>=1.21.0 in /Users/imac/miniconda3/envs/cifkit-test/lib/python3.12/site-packages (from pyvista) (2.0.0)\n",
      "Requirement already satisfied: pillow in /Users/imac/miniconda3/envs/cifkit-test/lib/python3.12/site-packages (from pyvista) (10.3.0)\n",
      "Requirement already satisfied: pooch in /Users/imac/miniconda3/envs/cifkit-test/lib/python3.12/site-packages (from pyvista) (1.8.2)\n",
      "Requirement already satisfied: scooby>=0.5.1 in /Users/imac/miniconda3/envs/cifkit-test/lib/python3.12/site-packages (from pyvista) (0.10.0)\n",
      "Requirement already satisfied: vtk in /Users/imac/miniconda3/envs/cifkit-test/lib/python3.12/site-packages (from pyvista) (9.3.1)\n",
      "Requirement already satisfied: contourpy>=1.0.1 in /Users/imac/miniconda3/envs/cifkit-test/lib/python3.12/site-packages (from matplotlib>=3.0.1->pyvista) (1.2.1)\n",
      "Requirement already satisfied: cycler>=0.10 in /Users/imac/miniconda3/envs/cifkit-test/lib/python3.12/site-packages (from matplotlib>=3.0.1->pyvista) (0.12.1)\n",
      "Requirement already satisfied: fonttools>=4.22.0 in /Users/imac/miniconda3/envs/cifkit-test/lib/python3.12/site-packages (from matplotlib>=3.0.1->pyvista) (4.53.0)\n",
      "Requirement already satisfied: kiwisolver>=1.3.1 in /Users/imac/miniconda3/envs/cifkit-test/lib/python3.12/site-packages (from matplotlib>=3.0.1->pyvista) (1.4.5)\n",
      "Requirement already satisfied: packaging>=20.0 in /Users/imac/miniconda3/envs/cifkit-test/lib/python3.12/site-packages (from matplotlib>=3.0.1->pyvista) (24.1)\n",
      "Requirement already satisfied: pyparsing>=2.3.1 in /Users/imac/miniconda3/envs/cifkit-test/lib/python3.12/site-packages (from matplotlib>=3.0.1->pyvista) (3.1.2)\n",
      "Requirement already satisfied: python-dateutil>=2.7 in /Users/imac/miniconda3/envs/cifkit-test/lib/python3.12/site-packages (from matplotlib>=3.0.1->pyvista) (2.9.0.post0)\n",
      "Requirement already satisfied: platformdirs>=2.5.0 in /Users/imac/miniconda3/envs/cifkit-test/lib/python3.12/site-packages (from pooch->pyvista) (4.2.2)\n",
      "Requirement already satisfied: requests>=2.19.0 in /Users/imac/miniconda3/envs/cifkit-test/lib/python3.12/site-packages (from pooch->pyvista) (2.32.3)\n",
      "Requirement already satisfied: six>=1.5 in /Users/imac/miniconda3/envs/cifkit-test/lib/python3.12/site-packages (from python-dateutil>=2.7->matplotlib>=3.0.1->pyvista) (1.16.0)\n",
      "Requirement already satisfied: charset-normalizer<4,>=2 in /Users/imac/miniconda3/envs/cifkit-test/lib/python3.12/site-packages (from requests>=2.19.0->pooch->pyvista) (3.3.2)\n",
      "Requirement already satisfied: idna<4,>=2.5 in /Users/imac/miniconda3/envs/cifkit-test/lib/python3.12/site-packages (from requests>=2.19.0->pooch->pyvista) (3.7)\n",
      "Requirement already satisfied: urllib3<3,>=1.21.1 in /Users/imac/miniconda3/envs/cifkit-test/lib/python3.12/site-packages (from requests>=2.19.0->pooch->pyvista) (2.2.2)\n",
      "Requirement already satisfied: certifi>=2017.4.17 in /Users/imac/miniconda3/envs/cifkit-test/lib/python3.12/site-packages (from requests>=2.19.0->pooch->pyvista) (2024.6.2)\n",
      "Note: you may need to restart the kernel to use updated packages.\n"
     ]
    }
   ],
   "source": [
    "pip install cifkit pyvista gemmi"
   ]
  },
  {
   "cell_type": "markdown",
   "metadata": {},
   "source": [
    "## Example with CIF\n",
    "\n",
    "You can use the `Cif` class to initialize an object for each `.cif` file."
   ]
  },
  {
   "cell_type": "code",
   "execution_count": 2,
   "metadata": {},
   "outputs": [
    {
     "name": "stdout",
     "output_type": "stream",
     "text": [
      "File name: ErCo2.68In0.32.cif\n",
      "Formula: ErCo2.68In0.32\n",
      "Uniqu element: {'In', 'Co', 'Er'}\n"
     ]
    }
   ],
   "source": [
    "from cifkit import Example\n",
    "from cifkit import Cif\n",
    "\n",
    "# Initalize with the file path\n",
    "cif = Cif(Example.ErCo2_68In0_32_file_path)\n",
    "# ErCo2_68In0_32_file_path is src/cifkit/data/ErCoIn/ErCo2.68In0.32.cif\n",
    "\n",
    "# Print attributes\n",
    "print(\"File name:\", cif.file_name)\n",
    "print(\"Formula:\", cif.formula)\n",
    "print(\"Uniqu element:\", cif.unique_elements)"
   ]
  },
  {
   "cell_type": "markdown",
   "metadata": {},
   "source": [
    "## Example with CifEnsemble\n",
    "\n",
    "For high-throuhgput analysis, you can initialize multiple `.cif` files using `CifEnsemble`. Further read the `CifEnsemble` section to see its automatic preprocessing, filtering, and analyzing functions."
   ]
  },
  {
   "cell_type": "code",
   "execution_count": 3,
   "metadata": {},
   "outputs": [
    {
     "name": "stdout",
     "output_type": "stream",
     "text": [
      "\n",
      "CIF Preprocessing in Example.ErCoIn_folder_path begun...\n",
      "\n",
      "Preprocessing /Users/imac/Downloads/cifkit/src/cifkit/data/ErCoIn/Er10Co9In20.cif (1/3)\n",
      "Preprocessing /Users/imac/Downloads/cifkit/src/cifkit/data/ErCoIn/ErCo2.68In0.32.cif (2/3)\n",
      "Preprocessing /Users/imac/Downloads/cifkit/src/cifkit/data/ErCoIn/ErCoIn5.cif (3/3)\n",
      "\n",
      "SUMMARY\n",
      "# of files moved to 'error_operations' folder: 0\n",
      "# of files moved to 'error_duplicate_labels' folder: 0\n",
      "# of files moved to 'error_wrong_loop_value' folder: 0\n",
      "# of files moved to 'error_coords' folder: 0\n",
      "# of files moved to 'error_invalid_label' folder: 0\n",
      "# of files moved to 'error_others' folder: 0\n",
      "\n",
      "File count in the folder: 3\n",
      "Unique elements in the folder: {'Co', 'In', 'Er'}\n",
      "Unique structures in the folder: {'Ho10Ni9In20', 'PuNi3', 'HoCoGa5'}\n",
      "\n",
      "File name: Er10Co9In20.cif\n",
      "Formula: Er10Co9In20\n",
      "Uniqu element: {'Co', 'In', 'Er'}\n",
      "\n",
      "File name: ErCo2.68In0.32.cif\n",
      "Formula: ErCo2.68In0.32\n",
      "Uniqu element: {'In', 'Er', 'Co'}\n",
      "\n",
      "File name: ErCoIn5.cif\n",
      "Formula: ErCoIn5\n",
      "Uniqu element: {'In', 'Er', 'Co'}\n"
     ]
    }
   ],
   "source": [
    "from cifkit import Example\n",
    "from cifkit import CifEnsemble\n",
    "\n",
    "# Initalize with the folder path. It has 3 files\n",
    "ensemble = CifEnsemble(Example.ErCoIn_folder_path)\n",
    "\n",
    "print(\"File count in the folder:\", ensemble.file_count)\n",
    "print(\"Unique elements in the folder:\", ensemble.unique_elements)\n",
    "print(\"Unique structures in the folder:\", ensemble.unique_structures)\n",
    "\n",
    "# To access each .cif file\n",
    "for cif in ensemble.cifs:\n",
    "    # Print attributes\n",
    "    print(\"\\nFile name:\", cif.file_name)\n",
    "    print(\"Formula:\", cif.formula)\n",
    "    print(\"Uniqu element:\", cif.unique_elements)"
   ]
  }
 ],
 "metadata": {
  "kernelspec": {
   "display_name": "cifkit-test",
   "language": "python",
   "name": "python3"
  },
  "language_info": {
   "codemirror_mode": {
    "name": "ipython",
    "version": 3
   },
   "file_extension": ".py",
   "mimetype": "text/x-python",
   "name": "python",
   "nbconvert_exporter": "python",
   "pygments_lexer": "ipython3",
   "version": "3.12.3"
  }
 },
 "nbformat": 4,
 "nbformat_minor": 2
}
