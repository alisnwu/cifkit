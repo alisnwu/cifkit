{
 "cells": [
  {
   "cell_type": "code",
   "execution_count": 4,
   "metadata": {},
   "outputs": [
    {
     "name": "stdout",
     "output_type": "stream",
     "text": [
      "unitcell lenghts: [4.288, 4.288, 10.133]\n",
      "unitcell angles: [1.5708, 1.5708, 1.5708]\n",
      "site labels: ['Ge1', 'Ru1', 'La1']\n",
      "unique elements: {'Ru', 'Ge', 'La'}\n",
      "formula: LaRu2Ge2\n",
      "structure: CeAl2Ga2\n",
      "weight: 486.2\n",
      "atomic mixing type: full_occupancy\n",
      "space group number: 139\n",
      "space group number: I4/mmm\n",
      "composition type: 3\n",
      "tag: hex\n",
      "atom_site_info: {\n",
      "    \"Ge1\": {\n",
      "        \"element\": \"Ge\",\n",
      "        \"site_occupancy\": 1.0,\n",
      "        \"x_frac_coord\": 0.0,\n",
      "        \"y_frac_coord\": 0.0,\n",
      "        \"z_frac_coord\": 0.387,\n",
      "        \"symmetry_multiplicity\": 4,\n",
      "        \"wyckoff_symbol\": \"e\"\n",
      "    },\n",
      "    \"Ru1\": {\n",
      "        \"element\": \"Ru\",\n",
      "        \"site_occupancy\": 1.0,\n",
      "        \"x_frac_coord\": 0.0,\n",
      "        \"y_frac_coord\": 0.5,\n",
      "        \"z_frac_coord\": 0.25,\n",
      "        \"symmetry_multiplicity\": 4,\n",
      "        \"wyckoff_symbol\": \"d\"\n",
      "    },\n",
      "    \"La1\": {\n",
      "        \"element\": \"La\",\n",
      "        \"site_occupancy\": 1.0,\n",
      "        \"x_frac_coord\": 0.0,\n",
      "        \"y_frac_coord\": 0.0,\n",
      "        \"z_frac_coord\": 0.0,\n",
      "        \"symmetry_multiplicity\": 2,\n",
      "        \"wyckoff_symbol\": \"a\"\n",
      "    }\n",
      "}\n",
      "wyckoff_symbol of Ge1: e\n"
     ]
    }
   ],
   "source": [
    "from cifkit import Cif\n",
    "import json\n",
    "\n",
    "# Utility function for printing dictionary\n",
    "def prettify_dict(dict_data):\n",
    "  return json.dumps(dict_data, indent=4)\n",
    "\n",
    "# Initialize\n",
    "cif = Cif(\"/Users/macbook/Downloads/cifkit/tests/data/cif/ensemble_test/300169.cif\")\n",
    "\n",
    "# Print instantly available properties\n",
    "print(\"unitcell lenghts:\", cif.unitcell_lengths)\n",
    "print(\"unitcell angles:\", cif.unitcell_angles)\n",
    "print(\"site labels:\", cif.site_labels)\n",
    "print(\"unique elements:\", cif.unique_elements)\n",
    "print(\"formula:\", cif.formula)\n",
    "print(\"structure:\", cif.structure)\n",
    "print(\"weight:\", cif.weight)\n",
    "print(\"atomic mixing type:\", cif.site_mixing_type)\n",
    "print(\"space group number:\", cif.space_group_number)\n",
    "print(\"space group number:\", cif.space_group_name)\n",
    "print(\"composition type:\", cif.composition_type) # 3 -> Ternary\n",
    "print(\"tag:\", cif.tag)\n",
    "print(\"atom_site_info:\", prettify_dict(cif.atom_site_info))\n",
    "print(\"wyckoff_symbol of Ge1:\", cif.atom_site_info[\"Ge1\"][\"wyckoff_symbol\"])\n",
    "\n",
    "c"
   ]
  }
 ],
 "metadata": {
  "kernelspec": {
   "display_name": "cif-test",
   "language": "python",
   "name": "python3"
  },
  "language_info": {
   "codemirror_mode": {
    "name": "ipython",
    "version": 3
   },
   "file_extension": ".py",
   "mimetype": "text/x-python",
   "name": "python",
   "nbconvert_exporter": "python",
   "pygments_lexer": "ipython3",
   "version": "3.12.2"
  }
 },
 "nbformat": 4,
 "nbformat_minor": 2
}
