{
 "cells": [
  {
   "cell_type": "code",
   "execution_count": null,
   "metadata": {},
   "outputs": [],
   "source": [
    "from cifkit import CifEnsemble\n",
    "\n",
    "cif_ensemble = CifEnsemble(\"tests/data/cif/ensemble_test\")\n",
    "cif_ensemble.generate_stat_histograms()\n"
   ]
  }
 ],
 "metadata": {
  "kernelspec": {
   "display_name": "cif-test",
   "language": "python",
   "name": "python3"
  },
  "language_info": {
   "codemirror_mode": {
    "name": "ipython",
    "version": 3
   },
   "file_extension": ".py",
   "mimetype": "text/x-python",
   "name": "python",
   "nbconvert_exporter": "python",
   "pygments_lexer": "ipython3",
   "version": "3.12.2"
  }
 },
 "nbformat": 4,
 "nbformat_minor": 2
}
