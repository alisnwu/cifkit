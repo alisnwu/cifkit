{
 "cells": [
  {
   "cell_type": "code",
   "execution_count": 4,
   "metadata": {},
   "outputs": [
    {
     "name": "stdout",
     "output_type": "stream",
     "text": [
      "\n",
      "CIF Preprocessing in tests/data/cif/ErCoIn_test begun...\n",
      "\n",
      "Preprocessing tests/data/cif/ErCoIn_test/1233938.cif (1/7)\n",
      "Preprocessing tests/data/cif/ErCoIn_test/1140826.cif (2/7)\n",
      "Preprocessing tests/data/cif/ErCoIn_test/1234749.cif (3/7)\n",
      "Preprocessing tests/data/cif/ErCoIn_test/1234747.cif (4/7)\n",
      "Preprocessing tests/data/cif/ErCoIn_test/1229705.cif (5/7)\n",
      "Preprocessing tests/data/cif/ErCoIn_test/250382.cif (6/7)\n",
      "Preprocessing tests/data/cif/ErCoIn_test/1000761.cif (7/7)\n",
      "\n",
      "SUMMARY\n",
      "# of files moved to 'error_operations' folder: 0\n",
      "# of files moved to 'error_duplicate_labels' folder: 0\n",
      "# of files moved to 'error_wrong_loop_value' folder: 0\n",
      "# of files moved to 'error_coords' folder: 0\n",
      "# of files moved to 'error_invalid_label' folder: 0\n",
      "# of files moved to 'error_others' folder: 0\n",
      "\n",
      "{6, 7, 10, 11, 12, 13, 14, 15, 16, 17}\n"
     ]
    }
   ],
   "source": [
    "from cifkit import Cif, CifEnsemble\n",
    "\n",
    "# file_path = \"tests/data/cif/URhIn.cif\"\n",
    "# cif = Cif(file_path, logging_enabled=True)\n",
    "# cif.shortest_distance\n",
    "\n",
    "\n",
    "ensemble = CifEnsemble(\"tests/data/cif/ErCoIn_test\", logging_enabled=False)\n",
    "print(ensemble.CN_unique_values_by_min_dist_method)\n",
    "\n"
   ]
  }
 ],
 "metadata": {
  "kernelspec": {
   "display_name": "cifkit-test",
   "language": "python",
   "name": "python3"
  },
  "language_info": {
   "codemirror_mode": {
    "name": "ipython",
    "version": 3
   },
   "file_extension": ".py",
   "mimetype": "text/x-python",
   "name": "python",
   "nbconvert_exporter": "python",
   "pygments_lexer": "ipython3",
   "version": "3.1.-1"
  }
 },
 "nbformat": 4,
 "nbformat_minor": 2
}
